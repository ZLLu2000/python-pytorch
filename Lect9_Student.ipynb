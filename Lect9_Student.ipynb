{
  "cells": [
    {
      "cell_type": "markdown",
      "metadata": {
        "id": "cnatVMr1tcRo"
      },
      "source": [
        "# Exercise-1: Checkerboard Pattern\n",
        "Plear write a python code to output a matrix with the following style:\n",
        "\n",
        "![1699929822024.png](data:image/png;base64,iVBORw0KGgoAAAANSUhEUgAAANUAAACUCAYAAAAERGxKAAAAAXNSR0IArs4c6QAAAARnQU1BAACxjwv8YQUAAAAJcEhZcwAADsMAAA7DAcdvqGQAAA6sSURBVHhe7Z1tjqW6DkXfVHpoNZjSHUuph3LV47hST6IeduxAQgLB2BwOtZfEDzjIMfHeSfgo1f++AQCuwFQAOANTAeAMTAWAMzAVAM7AVAA4szLVn39+ff/6JdvH1/dfOZ74+/31sfj9nz9yHIBn8Pf3x4b+x2ia6uN3L1Qy1ee/sttAk9o6x8S/n/PF/vr4/vpPjjsRlvf3n+/PnPdW3xr57+v7g2K7D3DBeWt8o3D7OA38pLfXmyr99vH7izvLVZwsnNlIyQCfU1k8CMw7x5b+FAN4tcH9MBX+i1YXrqaKzTsNkJ/fX5K/p6l4pZX7IhnXNCDcwVRU4HQ8XYinOMuOIvzaiMxbxVNk7mUAErrEcYupROZN/Sxi1UHBzVTV4EuY27jHTKV4i7NuM+37L0n8TcUFXQiR96c2Ykfn81yVt1nwPWoj8OBAWjGsan6KqVg8U2zKry78eQJNpcWlIvFo6rV0TYSZKjjvMFPJcjWZiepquAf/CaZSMynbeVoIMpWKUo6dKVaPEFNdkHeIqSjvpfmtg8GzTdUSzUgeR/HPOxW5LGieBRzxNtVVebubqnFPZTbH25hKp+WjyXKRFzEbRdfc7I/bt0xljZ1izmJstXE271SznuD5t+519RjJ2xp7ZtNUUvNjRpa+zDHT/krPI7FvYSpNtNqKc62mIor4rencKM6RvK2xGRFoMy5hjV3GzVslFLvw9/K2xtbrrbZaEyPCb1LGb2p5JDad83JTAfAkYCoAnPE2lU6d66DV1H14agbg3vB9Xlf/Y6xMBQA4B0wFgDMwFQDOwFQAOHPQVHhQAZ7NCx5U7DxS15dqvNm/EOihF+z+SD847/zS230QKl/Q9l+FGAnLO3pwln4xmoLxfKS+zYapqu+ukgEMHzI2Se2+3x9ASrypOO/2h4RxectrmxwzGcBtQOAB0uEPIO9gqrKjiNRZHkWmAqc4fjGVyLxZ6BJ73c5JRDxF5l5tROZdDWKEGvi8rabaSZzTMV9vqvp42vdfknib6qq8/cXJolnE4/0pbx9xzoQMBssceXCgPvdbHRCPMhUXQURZF/48caaKzTvQVCpKEgDPAr7iDDOVLFeTmaiuvveyjzGVilKhgrzDTBWfd5Cp1Exy7IwQeoSYKptJCBgMHmCqVuf3z7Xjbaqr8o4SZynEd5hhW/dUEYPBI0ylI1D+rVH01KFTkcwXu2UqnXUOLiNG8rbGXtAXpzV26os5ZrtvuN1un+2zZSpbbLnerIG0v1oZSF2sht401UhsOuflpiI0Wd4a07nVVEXceSvzOCH8vbzNsUX49VYU80TeVfxWXWzCH8nbGpvQa05bc6k9IvwVZdy81XobiU3n3MJUADwFmAoAZ642VZ5WD03NANyf/FS1tWwc5KCpAAB7wFQAOANTAeAMTAWAM3hQAcCCFzyo2H+krkm5P3bXF3a82b9s6BGWd/Ui1fubwvxC3X2AC85b4xuF28dp4L/He6r0G/6T4hKNLaURA3i1wf0wFR7/SXGm/KwqGdc0INzBVFTgdDxdiKc419+f+bURmbeKp8jcywAkdInjFlOJzJv6WcSqg4KbqarBlzC3cY+ZSvEWZ91m2vdfkvibigu6ECLvT23Ejs7nuSpvs+B71EbgwYG0YljV/BRTsXim2GSmuvDnCTSVFpeKxKOp19I1EWaq4LzDTCXL1WQmqqvhHvwnmErNpJCQ3mKmUlHKsTPF6hFiqgvyDjEV5b00v3UweLapWqIZyeMo/nmnIpcFzbOAI96muipvd1M17qnM5ngbU+m0fDRZLvIiZqPompv9cfuWqayxU8xZjK02zua9bSr+rXtdPUbytsae2TSV1PyYkaUvc8y0v1rRjMS+hak00WorzrWaiijit6ZzozhH8rbGZkSgzbiENXYZN2+VUOzC38vbGluvt9pqTYwIv0kZv3mLMBKbznm5qQB4EjAVAM5cbSqdWo9PzQDcG77PU31fYyoAwB4wFQDOwFQAOANTAeAMTAWAMwdNhad/4Nm84OnfznsqfVPNm/2zmx56we7vyYLzzl+SuA9C5VcPvh8YT4TlHT04S78YTcHc4uVv9TFjMoDh6+AmqV38e9Il2idSdjGAV9/E5S2fN+WYyQBuAwIPkPj3pLtQgVMcv5hKZN4sdIm9buckIp4ic682IvOuBjFCDXzeVlPtJM7pmK83VX087fsvSbxNdVXe/uJk0Szi8f6Ut484Z0IGg2WOPDhQn/utDohHmYqLIKKsC3+eOFPF5h1oKhUlCYBnAV9xhplKlqvJTFRX33vZx5hKRalQQd5hporPO8hUaiY5dkYIPUJMlc0kBAwGDzBVq/P759rxNtVVeUeJsxTiO8ywrXuqiMHgEabSESj/1ih66tCpSOaL3TKVzjoHlxEjeVtjL+iL0xo79cUcs9033G63z/bZMpUttlxv1kDaX60MpC5WQ2+aaiQ2nfNyUxGaLG+N6dxqqiLuvJV5nBD+Xt7m2CL8eiuKeSLvKn6rLjbhj+RtjU3oNaetudQeEf6KMm7ear2NxKZzbmEqAJ4CTAWAM1ebKk+rh6ZmAO5PfqraWjYOctBUAIA9YCoAnIGpAHAGpgLAGTyoAGDBCx5U7D9S16TcH7vrCzve7F829AjLu3qR6v1NYX6h7j7ABeet8Y3C7eM08N/jPVX6Df+edInGltKIAbza4H6YCo9/TzpTflaVjGsaEO5gKipwOp4uxFOc6+/P/NqIzFvFU2TuZQASusRxi6lE5k39LGLVQcHNVNXgS5jbuMdMpXiLs24z7fsvSfxNxQVdCJH3pzZiR+fzXJW3WfA9aiPw4EBaMaxqfoqpWDxTbDJTXfjzBJpKi0tF4tHUa+maCDNVcN5hppLlajIT1dVwD/4TTKVmUkhIbzFTqSjl2Jli9Qgx1QV5h5iK8l6a3zoYPNtULdGM5HEU/7xTkcuC5lnAEW9TXZW3u6ka91Rmc7yNqXRaPposF3kRs1F0zc3+uH3LVNbYKeYsxlYbZ/PeNhX/1r2uHiN5W2PPbJpKan7MyNKXOWbaX61oRmLfwlSaaLUV51pNRRTxW9O5UZwjeVtjMyLQZlzCGruMm7dKKHbh7+Vtja3XW221JkaE36SM37xFGIlN57zcVAA8CZgKAGeuNpVOrcenZgDuDd/nqb6vMRUAYA+YCgBnYCoAnIGpAHAGDyoAWPCCBxU7j9T1pRpv9i8EeugFuz/SD847v/R2H4TKF7S+30JOhOUdPThLvxhNwdziPVX13VUygOFDxiapXfwnxSXaJ1J2MYBX38TlLV9i5JjJAG4DAg+Q+E+Ku1CBUxy/mEpk3ix0ib1u5yQiniJzrzYi864GMUINfN5WU+0kzumYrzdVfTzt+y9JvE11Vd7+4mTRLOLx/pS3jzhnQgaDZY48OFCf+60OiEeZiosgoqwLf544U8XmHWgqFSUJgGcBX3GGmUqWq8lMVFffe9nHmEpFqVBB3mGmis87yFRqJjl2Rgg9QkyVzSQEDAYPMFWr8/vn2vE21VV5R4mzFOI7zLCte6qIweARptIRKP/WKHrq0KlI5ovdMpXOOgeXESN5W2Mv6IvTGjv1xRyz3TfcbrfP9tkylS22XG/WQNpfrQykLlZDb5pqJDad83JTEZosb43p3GqqIu68lXmcEP5e3ubYIvx6K4p5Iu8qfqsuNuGP5G2NTeg1p6251B4R/ooybt5qvY3EpnNuYSoAngJMBYAzV5sqT6uHpmYA7k9+qtpaNg5y0FQAgD1gKgCcgakAcAamAsAZmAoAZw6aCk//wLN5wdO//fdUmpT7uyx9C86b/XOhHmF5V18neH+om79ScR/ggvPW+Ebh9nEa+O/x8jf9hn9PukRjS2nEAF5tcD9Mhce/J50pv1VMxjUNCHcwFRU4HU8X4inO9Uedfm1E5q3iKTL3MgAJXeK4xVQi86Z+FrHqoOBmqmrwJcxt3GOmUrzFWbeZ9v2XJP6m4oIuhMj7Uxuxo/N5rsrbLPgetRF4cCCtGFY1P8VULJ4pNpmpLvx5Ak2lxaUi8WjqtXRNhJkqOO8wU8lyNZmJ6mq4B/8JplIzKSSkt5ipVJRy7EyxeoSY6oK8Q0xFeS/Nbx0Mnm2qlmhG8jiKf96pyGVB8yzgiLeprsrb3VSNeyqzOd7GVDotH02Wi7yI2Si65mZ/3L5lKmvsFHMWY6uNs3lvm4p/615Xj5G8rbFnNk0lNT9mZOnLHDPtr1Y0I7FvYSpNtNqKc62mIor4rencKM6RvK2xGRFoMy5hjV3GzVslFLvw9/K2xtbrrbZaEyPCb1LGb94ijMSmc15uKgCeBEwFgDNXm0qn1uNTMwD3hu/zVN/XmAoAsAdMBYAzMBUAzsBUADiDBxUALNh7UKHv5rb0bzJV95G6vlTjzf6FQA+9YPdH+sF555fe7oNQ+YLW91vIibC8owdn6Rfj0ztm55E6azHcVNV3V8kAhg8Zm6R28e9Jl2ifSNnFAF59E5e3jPY5ZjKA24DAA2T8vye9xFRlRxGpszyKTBeQ4vjFVCLzZqFL7HU7JxHxFJl7tRGZdzWIEWrg87aaaidxTsd8vanq42nff0nibaqr8vYXZ11U3p/y9hHnTMhgsMyRBwfqc7/VAfEoU3ERRJRbDduIM1Vs3oGmUlGSAHgW8BVnmKlkuZrMRHX1vZd9jKlUlAoV5B1mqvi8g0ylZpJje0KwEGKqbCYhYDB4gKland8/1463qa7KO0qcpRC3Cm3FPe/GPVXEYPAIU+kIlH9rFD116FQk88VumUpnnYPLiJG8rbEX9MVpjZ36Yo7Z7htut9tn+2yZyhZbrjdrIO2vVgZSF6uhN001EpvOebmpCE2Wt8Z0bjVVEXfeyjxOCH8vb3NsEX69FcU4kXcVv1UXm/BH8rbGJvSa09Zcao8If0UZN2+13kZi0zm3MBUATwGmAsCZq02Vp9VDUzMA94fN0ls2TuiSd0v/B00FANgDpgLAGZgKAGdgKgCcgakAcAamAsAZmAoAZ2AqAFz5/v4/FuwLTgHoQecAAAAASUVORK5CYII=)"
      ]
    },
    {
      "cell_type": "markdown",
      "metadata": {
        "id": "UAQnec8Yyca7"
      },
      "source": [
        "# Sweetviz"
      ]
    },
    {
      "cell_type": "code",
      "execution_count": null,
      "metadata": {
        "id": "sqgCkWBYf2Z5"
      },
      "outputs": [],
      "source": [
        "! pip install sweetviz"
      ]
    },
    {
      "cell_type": "code",
      "execution_count": null,
      "metadata": {
        "id": "2tuWUeEJE2Id"
      },
      "outputs": [],
      "source": [
        "import sweetviz as sv\n",
        "import pandas as pd\n",
        "train_df = pd.read_csv('./train_lec10.csv')\n",
        "test_df = pd.read_csv('./test_lec10.csv')\n",
        "test_df"
      ]
    },
    {
      "cell_type": "code",
      "execution_count": null,
      "metadata": {
        "colab": {
          "base_uri": "https://localhost:8080/",
          "height": 49,
          "referenced_widgets": [
            "37d0cad5a2a645108fecd7ee3407fc08",
            "42d504e658744fdfac7fe0156eddbc6f",
            "e69c5ffa8ef04c81bc47a66d34cafd64",
            "9bcf3e6dd9f84e92a882271185f7c69b",
            "b0027f3aa33c4839b2ab0307734737b8",
            "6d1d9bad50404803a6447385103ea512",
            "5c678433abd34e7aa5585026d7fb18da",
            "a1ac1023173b47cd98a39380b49cd544",
            "8cb5f8ffacdf420ebc7aac71bfd71932",
            "13e99cbd254147ba985c12eb2ad62b1c",
            "ec36a11cc2d5456a94e6c92436afb7e2"
          ]
        },
        "id": "qzOatSPMjpqq",
        "outputId": "342df99c-7666-47de-ca60-1fd380b7db26"
      },
      "outputs": [],
      "source": [
        "comparison_report = sv.compare([train_df,'Train'], [test_df,'Test'], target_feat='Survived')"
      ]
    },
    {
      "cell_type": "code",
      "execution_count": null,
      "metadata": {
        "id": "EKzJWRjYgipb"
      },
      "outputs": [],
      "source": [
        "comparison_report.show_notebook()"
      ]
    },
    {
      "cell_type": "code",
      "execution_count": null,
      "metadata": {
        "id": "PwZSizWZD4G6"
      },
      "outputs": [],
      "source": [
        "feature_config = sv.FeatureConfig(skip=\"PassengerId\", force_text=[\"Age\"])\n",
        "analyze_report = sv.analyze([train_df,'Train'], 'Survived',  feature_config)\n",
        "analyze_report.show_notebook()"
      ]
    },
    {
      "cell_type": "code",
      "execution_count": null,
      "metadata": {
        "id": "_SJk3ZZ_IeI4"
      },
      "outputs": [],
      "source": [
        "intra_report = sv.compare_intra(train_df, train_df[\"Sex\"] == 'male', [\"Male\", \"Female\"], 'Survived')\n",
        "intra_report.show_notebook()"
      ]
    },
    {
      "cell_type": "code",
      "execution_count": null,
      "metadata": {
        "id": "QMoo6oUoJmqm"
      },
      "outputs": [],
      "source": [
        "# Using UNPRACTICALLY SMALL windows & scales, just to showcase the two layouts!\n",
        "intra_report.show_html(layout='widescreen', scale=0.7)\n",
        "intra_report.show_html(layout='vertical', scale=0.7)"
      ]
    },
    {
      "cell_type": "markdown",
      "metadata": {
        "id": "jE0GWVVjEXDD"
      },
      "source": [
        "## Exercises"
      ]
    },
    {
      "cell_type": "markdown",
      "metadata": {
        "id": "uLGFBKGnuum1"
      },
      "source": [
        "Compare how Attrition_Flag is affected by other variables in the training and test sets."
      ]
    },
    {
      "cell_type": "code",
      "execution_count": null,
      "metadata": {
        "colab": {
          "base_uri": "https://localhost:8080/",
          "height": 803,
          "referenced_widgets": [
            "409637040f1e4882a705d8fcd3b0c76b",
            "b7603f0447184b0f93d3e0676ad4d6cc",
            "1cf828d15f614e819a93763f4b80295f",
            "52627945a8824e92badc39e500fb57d7",
            "89478b8e0bcd46a9a2a6137e1db63150",
            "fb197cd78bb241f59a8a9625a11a9555",
            "628ad6018e1b43a4abf03ea213245283",
            "17505ab468fc489395e0f135c364c229",
            "66ecc5dbc87848d493a2b54fd6a1f690",
            "fc54967abf5a4778800c2d35136fc7cf",
            "5f083aaae5054ed6a3e10bbdacc2a0c4"
          ]
        },
        "id": "2mr46jfKYnsj",
        "outputId": "4e1334de-23d7-468a-f38c-3aa271378dcd"
      },
      "outputs": [],
      "source": [
        "import pandas as pd\n",
        "import numpy as np\n",
        "import sweetviz as sv\n",
        "\n"
      ]
    },
    {
      "cell_type": "markdown",
      "metadata": {
        "id": "GOYaSQDcu3rm"
      },
      "source": [
        "For the Customer_Age, let us display the histogram within 5 groups (30, 40, 50, 60, 70). What is the proportion of people over 70 years old in the test set? For the test set, Which age group has the lowest rate for “true attrition flag”?"
      ]
    },
    {
      "cell_type": "code",
      "execution_count": null,
      "metadata": {
        "colab": {
          "base_uri": "https://localhost:8080/",
          "height": 383
        },
        "id": "vYTpb5DUYnsr",
        "outputId": "3bd224d3-7c1c-4984-a79b-d61e6676cc6d"
      },
      "outputs": [],
      "source": [
        "import pandas as pd\n",
        "import numpy as np\n",
        "import sweetviz as sv\n",
        "\n",
        "\n"
      ]
    },
    {
      "cell_type": "markdown",
      "metadata": {
        "id": "kOYboKnSu8QR"
      },
      "source": [
        "Analyze the training set, find out what variable is most related to the income category? Make the “Dependent_count” as categorical"
      ]
    },
    {
      "cell_type": "code",
      "execution_count": null,
      "metadata": {
        "id": "SomgCpKKf_Rz"
      },
      "outputs": [],
      "source": [
        "import pandas as pd\n",
        "import numpy as np\n",
        "import sweetviz as sv\n",
        "\n"
      ]
    },
    {
      "cell_type": "markdown",
      "metadata": {
        "id": "5AdFLQjHwlJT"
      },
      "source": [
        "Show how Attrition_Flag changes for young (age<60) and old groups (age>=60) in the training set."
      ]
    },
    {
      "cell_type": "code",
      "execution_count": null,
      "metadata": {
        "id": "hs8uceLZgACa"
      },
      "outputs": [],
      "source": [
        "import pandas as pd\n",
        "import numpy as np\n",
        "import sweetviz as sv\n",
        "\n"
      ]
    }
  ],
  "metadata": {
    "colab": {
      "provenance": []
    },
    "kernelspec": {
      "display_name": "Python 3 (ipykernel)",
      "language": "python",
      "name": "python3"
    },
    "language_info": {
      "codemirror_mode": {
        "name": "ipython",
        "version": 3
      },
      "file_extension": ".py",
      "mimetype": "text/x-python",
      "name": "python",
      "nbconvert_exporter": "python",
      "pygments_lexer": "ipython3",
      "version": "3.9.12"
    },
    "widgets": {
      "application/vnd.jupyter.widget-state+json": {
        "13e99cbd254147ba985c12eb2ad62b1c": {
          "model_module": "@jupyter-widgets/base",
          "model_module_version": "1.2.0",
          "model_name": "LayoutModel",
          "state": {
            "_model_module": "@jupyter-widgets/base",
            "_model_module_version": "1.2.0",
            "_model_name": "LayoutModel",
            "_view_count": null,
            "_view_module": "@jupyter-widgets/base",
            "_view_module_version": "1.2.0",
            "_view_name": "LayoutView",
            "align_content": null,
            "align_items": null,
            "align_self": null,
            "border": null,
            "bottom": null,
            "display": null,
            "flex": null,
            "flex_flow": null,
            "grid_area": null,
            "grid_auto_columns": null,
            "grid_auto_flow": null,
            "grid_auto_rows": null,
            "grid_column": null,
            "grid_gap": null,
            "grid_row": null,
            "grid_template_areas": null,
            "grid_template_columns": null,
            "grid_template_rows": null,
            "height": null,
            "justify_content": null,
            "justify_items": null,
            "left": null,
            "margin": null,
            "max_height": null,
            "max_width": null,
            "min_height": null,
            "min_width": null,
            "object_fit": null,
            "object_position": null,
            "order": null,
            "overflow": null,
            "overflow_x": null,
            "overflow_y": null,
            "padding": null,
            "right": null,
            "top": null,
            "visibility": null,
            "width": null
          }
        },
        "17505ab468fc489395e0f135c364c229": {
          "model_module": "@jupyter-widgets/base",
          "model_module_version": "1.2.0",
          "model_name": "LayoutModel",
          "state": {
            "_model_module": "@jupyter-widgets/base",
            "_model_module_version": "1.2.0",
            "_model_name": "LayoutModel",
            "_view_count": null,
            "_view_module": "@jupyter-widgets/base",
            "_view_module_version": "1.2.0",
            "_view_name": "LayoutView",
            "align_content": null,
            "align_items": null,
            "align_self": null,
            "border": null,
            "bottom": null,
            "display": null,
            "flex": "2",
            "flex_flow": null,
            "grid_area": null,
            "grid_auto_columns": null,
            "grid_auto_flow": null,
            "grid_auto_rows": null,
            "grid_column": null,
            "grid_gap": null,
            "grid_row": null,
            "grid_template_areas": null,
            "grid_template_columns": null,
            "grid_template_rows": null,
            "height": null,
            "justify_content": null,
            "justify_items": null,
            "left": null,
            "margin": null,
            "max_height": null,
            "max_width": null,
            "min_height": null,
            "min_width": null,
            "object_fit": null,
            "object_position": null,
            "order": null,
            "overflow": null,
            "overflow_x": null,
            "overflow_y": null,
            "padding": null,
            "right": null,
            "top": null,
            "visibility": null,
            "width": null
          }
        },
        "1cf828d15f614e819a93763f4b80295f": {
          "model_module": "@jupyter-widgets/controls",
          "model_module_version": "1.5.0",
          "model_name": "FloatProgressModel",
          "state": {
            "_dom_classes": [],
            "_model_module": "@jupyter-widgets/controls",
            "_model_module_version": "1.5.0",
            "_model_name": "FloatProgressModel",
            "_view_count": null,
            "_view_module": "@jupyter-widgets/controls",
            "_view_module_version": "1.5.0",
            "_view_name": "ProgressView",
            "bar_style": "success",
            "description": "",
            "description_tooltip": null,
            "layout": "IPY_MODEL_17505ab468fc489395e0f135c364c229",
            "max": 1,
            "min": 0,
            "orientation": "horizontal",
            "style": "IPY_MODEL_66ecc5dbc87848d493a2b54fd6a1f690",
            "value": 1
          }
        },
        "37d0cad5a2a645108fecd7ee3407fc08": {
          "model_module": "@jupyter-widgets/controls",
          "model_module_version": "1.5.0",
          "model_name": "HBoxModel",
          "state": {
            "_dom_classes": [],
            "_model_module": "@jupyter-widgets/controls",
            "_model_module_version": "1.5.0",
            "_model_name": "HBoxModel",
            "_view_count": null,
            "_view_module": "@jupyter-widgets/controls",
            "_view_module_version": "1.5.0",
            "_view_name": "HBoxView",
            "box_style": "",
            "children": [
              "IPY_MODEL_42d504e658744fdfac7fe0156eddbc6f",
              "IPY_MODEL_e69c5ffa8ef04c81bc47a66d34cafd64",
              "IPY_MODEL_9bcf3e6dd9f84e92a882271185f7c69b"
            ],
            "layout": "IPY_MODEL_b0027f3aa33c4839b2ab0307734737b8"
          }
        },
        "409637040f1e4882a705d8fcd3b0c76b": {
          "model_module": "@jupyter-widgets/controls",
          "model_module_version": "1.5.0",
          "model_name": "HBoxModel",
          "state": {
            "_dom_classes": [],
            "_model_module": "@jupyter-widgets/controls",
            "_model_module_version": "1.5.0",
            "_model_name": "HBoxModel",
            "_view_count": null,
            "_view_module": "@jupyter-widgets/controls",
            "_view_module_version": "1.5.0",
            "_view_name": "HBoxView",
            "box_style": "",
            "children": [
              "IPY_MODEL_b7603f0447184b0f93d3e0676ad4d6cc",
              "IPY_MODEL_1cf828d15f614e819a93763f4b80295f",
              "IPY_MODEL_52627945a8824e92badc39e500fb57d7"
            ],
            "layout": "IPY_MODEL_89478b8e0bcd46a9a2a6137e1db63150"
          }
        },
        "42d504e658744fdfac7fe0156eddbc6f": {
          "model_module": "@jupyter-widgets/controls",
          "model_module_version": "1.5.0",
          "model_name": "HTMLModel",
          "state": {
            "_dom_classes": [],
            "_model_module": "@jupyter-widgets/controls",
            "_model_module_version": "1.5.0",
            "_model_name": "HTMLModel",
            "_view_count": null,
            "_view_module": "@jupyter-widgets/controls",
            "_view_module_version": "1.5.0",
            "_view_name": "HTMLView",
            "description": "",
            "description_tooltip": null,
            "layout": "IPY_MODEL_6d1d9bad50404803a6447385103ea512",
            "placeholder": "​",
            "style": "IPY_MODEL_5c678433abd34e7aa5585026d7fb18da",
            "value": "Done! Use &#x27;show&#x27; commands to display/save.   "
          }
        },
        "52627945a8824e92badc39e500fb57d7": {
          "model_module": "@jupyter-widgets/controls",
          "model_module_version": "1.5.0",
          "model_name": "HTMLModel",
          "state": {
            "_dom_classes": [],
            "_model_module": "@jupyter-widgets/controls",
            "_model_module_version": "1.5.0",
            "_model_name": "HTMLModel",
            "_view_count": null,
            "_view_module": "@jupyter-widgets/controls",
            "_view_module_version": "1.5.0",
            "_view_name": "HTMLView",
            "description": "",
            "description_tooltip": null,
            "layout": "IPY_MODEL_fc54967abf5a4778800c2d35136fc7cf",
            "placeholder": "​",
            "style": "IPY_MODEL_5f083aaae5054ed6a3e10bbdacc2a0c4",
            "value": " [100%]   00:03 -&gt; (00:00 left)"
          }
        },
        "5c678433abd34e7aa5585026d7fb18da": {
          "model_module": "@jupyter-widgets/controls",
          "model_module_version": "1.5.0",
          "model_name": "DescriptionStyleModel",
          "state": {
            "_model_module": "@jupyter-widgets/controls",
            "_model_module_version": "1.5.0",
            "_model_name": "DescriptionStyleModel",
            "_view_count": null,
            "_view_module": "@jupyter-widgets/base",
            "_view_module_version": "1.2.0",
            "_view_name": "StyleView",
            "description_width": ""
          }
        },
        "5f083aaae5054ed6a3e10bbdacc2a0c4": {
          "model_module": "@jupyter-widgets/controls",
          "model_module_version": "1.5.0",
          "model_name": "DescriptionStyleModel",
          "state": {
            "_model_module": "@jupyter-widgets/controls",
            "_model_module_version": "1.5.0",
            "_model_name": "DescriptionStyleModel",
            "_view_count": null,
            "_view_module": "@jupyter-widgets/base",
            "_view_module_version": "1.2.0",
            "_view_name": "StyleView",
            "description_width": ""
          }
        },
        "628ad6018e1b43a4abf03ea213245283": {
          "model_module": "@jupyter-widgets/controls",
          "model_module_version": "1.5.0",
          "model_name": "DescriptionStyleModel",
          "state": {
            "_model_module": "@jupyter-widgets/controls",
            "_model_module_version": "1.5.0",
            "_model_name": "DescriptionStyleModel",
            "_view_count": null,
            "_view_module": "@jupyter-widgets/base",
            "_view_module_version": "1.2.0",
            "_view_name": "StyleView",
            "description_width": ""
          }
        },
        "66ecc5dbc87848d493a2b54fd6a1f690": {
          "model_module": "@jupyter-widgets/controls",
          "model_module_version": "1.5.0",
          "model_name": "ProgressStyleModel",
          "state": {
            "_model_module": "@jupyter-widgets/controls",
            "_model_module_version": "1.5.0",
            "_model_name": "ProgressStyleModel",
            "_view_count": null,
            "_view_module": "@jupyter-widgets/base",
            "_view_module_version": "1.2.0",
            "_view_name": "StyleView",
            "bar_color": null,
            "description_width": ""
          }
        },
        "6d1d9bad50404803a6447385103ea512": {
          "model_module": "@jupyter-widgets/base",
          "model_module_version": "1.2.0",
          "model_name": "LayoutModel",
          "state": {
            "_model_module": "@jupyter-widgets/base",
            "_model_module_version": "1.2.0",
            "_model_name": "LayoutModel",
            "_view_count": null,
            "_view_module": "@jupyter-widgets/base",
            "_view_module_version": "1.2.0",
            "_view_name": "LayoutView",
            "align_content": null,
            "align_items": null,
            "align_self": null,
            "border": null,
            "bottom": null,
            "display": null,
            "flex": null,
            "flex_flow": null,
            "grid_area": null,
            "grid_auto_columns": null,
            "grid_auto_flow": null,
            "grid_auto_rows": null,
            "grid_column": null,
            "grid_gap": null,
            "grid_row": null,
            "grid_template_areas": null,
            "grid_template_columns": null,
            "grid_template_rows": null,
            "height": null,
            "justify_content": null,
            "justify_items": null,
            "left": null,
            "margin": null,
            "max_height": null,
            "max_width": null,
            "min_height": null,
            "min_width": null,
            "object_fit": null,
            "object_position": null,
            "order": null,
            "overflow": null,
            "overflow_x": null,
            "overflow_y": null,
            "padding": null,
            "right": null,
            "top": null,
            "visibility": null,
            "width": null
          }
        },
        "89478b8e0bcd46a9a2a6137e1db63150": {
          "model_module": "@jupyter-widgets/base",
          "model_module_version": "1.2.0",
          "model_name": "LayoutModel",
          "state": {
            "_model_module": "@jupyter-widgets/base",
            "_model_module_version": "1.2.0",
            "_model_name": "LayoutModel",
            "_view_count": null,
            "_view_module": "@jupyter-widgets/base",
            "_view_module_version": "1.2.0",
            "_view_name": "LayoutView",
            "align_content": null,
            "align_items": null,
            "align_self": null,
            "border": null,
            "bottom": null,
            "display": "inline-flex",
            "flex": null,
            "flex_flow": "row wrap",
            "grid_area": null,
            "grid_auto_columns": null,
            "grid_auto_flow": null,
            "grid_auto_rows": null,
            "grid_column": null,
            "grid_gap": null,
            "grid_row": null,
            "grid_template_areas": null,
            "grid_template_columns": null,
            "grid_template_rows": null,
            "height": null,
            "justify_content": null,
            "justify_items": null,
            "left": null,
            "margin": null,
            "max_height": null,
            "max_width": null,
            "min_height": null,
            "min_width": null,
            "object_fit": null,
            "object_position": null,
            "order": null,
            "overflow": null,
            "overflow_x": null,
            "overflow_y": null,
            "padding": null,
            "right": null,
            "top": null,
            "visibility": null,
            "width": "100%"
          }
        },
        "8cb5f8ffacdf420ebc7aac71bfd71932": {
          "model_module": "@jupyter-widgets/controls",
          "model_module_version": "1.5.0",
          "model_name": "ProgressStyleModel",
          "state": {
            "_model_module": "@jupyter-widgets/controls",
            "_model_module_version": "1.5.0",
            "_model_name": "ProgressStyleModel",
            "_view_count": null,
            "_view_module": "@jupyter-widgets/base",
            "_view_module_version": "1.2.0",
            "_view_name": "StyleView",
            "bar_color": null,
            "description_width": ""
          }
        },
        "9bcf3e6dd9f84e92a882271185f7c69b": {
          "model_module": "@jupyter-widgets/controls",
          "model_module_version": "1.5.0",
          "model_name": "HTMLModel",
          "state": {
            "_dom_classes": [],
            "_model_module": "@jupyter-widgets/controls",
            "_model_module_version": "1.5.0",
            "_model_name": "HTMLModel",
            "_view_count": null,
            "_view_module": "@jupyter-widgets/controls",
            "_view_module_version": "1.5.0",
            "_view_name": "HTMLView",
            "description": "",
            "description_tooltip": null,
            "layout": "IPY_MODEL_13e99cbd254147ba985c12eb2ad62b1c",
            "placeholder": "​",
            "style": "IPY_MODEL_ec36a11cc2d5456a94e6c92436afb7e2",
            "value": " [100%]   00:01 -&gt; (00:00 left)"
          }
        },
        "a1ac1023173b47cd98a39380b49cd544": {
          "model_module": "@jupyter-widgets/base",
          "model_module_version": "1.2.0",
          "model_name": "LayoutModel",
          "state": {
            "_model_module": "@jupyter-widgets/base",
            "_model_module_version": "1.2.0",
            "_model_name": "LayoutModel",
            "_view_count": null,
            "_view_module": "@jupyter-widgets/base",
            "_view_module_version": "1.2.0",
            "_view_name": "LayoutView",
            "align_content": null,
            "align_items": null,
            "align_self": null,
            "border": null,
            "bottom": null,
            "display": null,
            "flex": "2",
            "flex_flow": null,
            "grid_area": null,
            "grid_auto_columns": null,
            "grid_auto_flow": null,
            "grid_auto_rows": null,
            "grid_column": null,
            "grid_gap": null,
            "grid_row": null,
            "grid_template_areas": null,
            "grid_template_columns": null,
            "grid_template_rows": null,
            "height": null,
            "justify_content": null,
            "justify_items": null,
            "left": null,
            "margin": null,
            "max_height": null,
            "max_width": null,
            "min_height": null,
            "min_width": null,
            "object_fit": null,
            "object_position": null,
            "order": null,
            "overflow": null,
            "overflow_x": null,
            "overflow_y": null,
            "padding": null,
            "right": null,
            "top": null,
            "visibility": null,
            "width": null
          }
        },
        "b0027f3aa33c4839b2ab0307734737b8": {
          "model_module": "@jupyter-widgets/base",
          "model_module_version": "1.2.0",
          "model_name": "LayoutModel",
          "state": {
            "_model_module": "@jupyter-widgets/base",
            "_model_module_version": "1.2.0",
            "_model_name": "LayoutModel",
            "_view_count": null,
            "_view_module": "@jupyter-widgets/base",
            "_view_module_version": "1.2.0",
            "_view_name": "LayoutView",
            "align_content": null,
            "align_items": null,
            "align_self": null,
            "border": null,
            "bottom": null,
            "display": "inline-flex",
            "flex": null,
            "flex_flow": "row wrap",
            "grid_area": null,
            "grid_auto_columns": null,
            "grid_auto_flow": null,
            "grid_auto_rows": null,
            "grid_column": null,
            "grid_gap": null,
            "grid_row": null,
            "grid_template_areas": null,
            "grid_template_columns": null,
            "grid_template_rows": null,
            "height": null,
            "justify_content": null,
            "justify_items": null,
            "left": null,
            "margin": null,
            "max_height": null,
            "max_width": null,
            "min_height": null,
            "min_width": null,
            "object_fit": null,
            "object_position": null,
            "order": null,
            "overflow": null,
            "overflow_x": null,
            "overflow_y": null,
            "padding": null,
            "right": null,
            "top": null,
            "visibility": null,
            "width": "100%"
          }
        },
        "b7603f0447184b0f93d3e0676ad4d6cc": {
          "model_module": "@jupyter-widgets/controls",
          "model_module_version": "1.5.0",
          "model_name": "HTMLModel",
          "state": {
            "_dom_classes": [],
            "_model_module": "@jupyter-widgets/controls",
            "_model_module_version": "1.5.0",
            "_model_name": "HTMLModel",
            "_view_count": null,
            "_view_module": "@jupyter-widgets/controls",
            "_view_module_version": "1.5.0",
            "_view_name": "HTMLView",
            "description": "",
            "description_tooltip": null,
            "layout": "IPY_MODEL_fb197cd78bb241f59a8a9625a11a9555",
            "placeholder": "​",
            "style": "IPY_MODEL_628ad6018e1b43a4abf03ea213245283",
            "value": "Done! Use &#x27;show&#x27; commands to display/save.   "
          }
        },
        "e69c5ffa8ef04c81bc47a66d34cafd64": {
          "model_module": "@jupyter-widgets/controls",
          "model_module_version": "1.5.0",
          "model_name": "FloatProgressModel",
          "state": {
            "_dom_classes": [],
            "_model_module": "@jupyter-widgets/controls",
            "_model_module_version": "1.5.0",
            "_model_name": "FloatProgressModel",
            "_view_count": null,
            "_view_module": "@jupyter-widgets/controls",
            "_view_module_version": "1.5.0",
            "_view_name": "ProgressView",
            "bar_style": "success",
            "description": "",
            "description_tooltip": null,
            "layout": "IPY_MODEL_a1ac1023173b47cd98a39380b49cd544",
            "max": 1,
            "min": 0,
            "orientation": "horizontal",
            "style": "IPY_MODEL_8cb5f8ffacdf420ebc7aac71bfd71932",
            "value": 1
          }
        },
        "ec36a11cc2d5456a94e6c92436afb7e2": {
          "model_module": "@jupyter-widgets/controls",
          "model_module_version": "1.5.0",
          "model_name": "DescriptionStyleModel",
          "state": {
            "_model_module": "@jupyter-widgets/controls",
            "_model_module_version": "1.5.0",
            "_model_name": "DescriptionStyleModel",
            "_view_count": null,
            "_view_module": "@jupyter-widgets/base",
            "_view_module_version": "1.2.0",
            "_view_name": "StyleView",
            "description_width": ""
          }
        },
        "fb197cd78bb241f59a8a9625a11a9555": {
          "model_module": "@jupyter-widgets/base",
          "model_module_version": "1.2.0",
          "model_name": "LayoutModel",
          "state": {
            "_model_module": "@jupyter-widgets/base",
            "_model_module_version": "1.2.0",
            "_model_name": "LayoutModel",
            "_view_count": null,
            "_view_module": "@jupyter-widgets/base",
            "_view_module_version": "1.2.0",
            "_view_name": "LayoutView",
            "align_content": null,
            "align_items": null,
            "align_self": null,
            "border": null,
            "bottom": null,
            "display": null,
            "flex": null,
            "flex_flow": null,
            "grid_area": null,
            "grid_auto_columns": null,
            "grid_auto_flow": null,
            "grid_auto_rows": null,
            "grid_column": null,
            "grid_gap": null,
            "grid_row": null,
            "grid_template_areas": null,
            "grid_template_columns": null,
            "grid_template_rows": null,
            "height": null,
            "justify_content": null,
            "justify_items": null,
            "left": null,
            "margin": null,
            "max_height": null,
            "max_width": null,
            "min_height": null,
            "min_width": null,
            "object_fit": null,
            "object_position": null,
            "order": null,
            "overflow": null,
            "overflow_x": null,
            "overflow_y": null,
            "padding": null,
            "right": null,
            "top": null,
            "visibility": null,
            "width": null
          }
        },
        "fc54967abf5a4778800c2d35136fc7cf": {
          "model_module": "@jupyter-widgets/base",
          "model_module_version": "1.2.0",
          "model_name": "LayoutModel",
          "state": {
            "_model_module": "@jupyter-widgets/base",
            "_model_module_version": "1.2.0",
            "_model_name": "LayoutModel",
            "_view_count": null,
            "_view_module": "@jupyter-widgets/base",
            "_view_module_version": "1.2.0",
            "_view_name": "LayoutView",
            "align_content": null,
            "align_items": null,
            "align_self": null,
            "border": null,
            "bottom": null,
            "display": null,
            "flex": null,
            "flex_flow": null,
            "grid_area": null,
            "grid_auto_columns": null,
            "grid_auto_flow": null,
            "grid_auto_rows": null,
            "grid_column": null,
            "grid_gap": null,
            "grid_row": null,
            "grid_template_areas": null,
            "grid_template_columns": null,
            "grid_template_rows": null,
            "height": null,
            "justify_content": null,
            "justify_items": null,
            "left": null,
            "margin": null,
            "max_height": null,
            "max_width": null,
            "min_height": null,
            "min_width": null,
            "object_fit": null,
            "object_position": null,
            "order": null,
            "overflow": null,
            "overflow_x": null,
            "overflow_y": null,
            "padding": null,
            "right": null,
            "top": null,
            "visibility": null,
            "width": null
          }
        }
      }
    }
  },
  "nbformat": 4,
  "nbformat_minor": 0
}
