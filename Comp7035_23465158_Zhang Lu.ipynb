{
 "cells": [
  {
   "cell_type": "markdown",
   "id": "ebe94592-8589-440e-9bb8-8bae5376ec03",
   "metadata": {},
   "source": [
    "# Lab Demo COMP7035 Week 10"
   ]
  },
  {
   "cell_type": "markdown",
   "id": "ff4d0970-2b4b-484e-a961-93d6e788b201",
   "metadata": {},
   "source": [
    "## Lab Demo COMP7035 Week 10\n",
    "### Be familiar with Keras for creating deep learning models"
   ]
  },
  {
   "cell_type": "markdown",
   "id": "4afe2d2a-0524-4674-91f0-d91842dc515d",
   "metadata": {},
   "source": [
    "## Exercise 1"
   ]
  },
  {
   "cell_type": "markdown",
   "id": "67f49526-9692-4c0b-b61f-68e52f811a37",
   "metadata": {},
   "source": [
    "## Problem 1: Defining a CNN model with Keras (1)\n",
    "#### Using Sequential API to define a CNN model. The CNN model follows the architecture below and outputs the model summary. \n",
    "![avatar](cnn1.png)"
   ]
  },
  {
   "cell_type": "code",
   "execution_count": 6,
   "id": "d2b0b703-23b6-4952-ac43-850b498a91ab",
   "metadata": {
    "tags": []
   },
   "outputs": [
    {
     "name": "stdout",
     "output_type": "stream",
     "text": [
      "Model: \"sequential_1\"\n",
      "_________________________________________________________________\n",
      " Layer (type)                Output Shape              Param #   \n",
      "=================================================================\n",
      " reshape_4 (Reshape)         (1, 64, 64, 16)           0         \n",
      "                                                                 \n",
      " conv2d_6 (Conv2D)           (1, 60, 60, 32)           12832     \n",
      "                                                                 \n",
      " max_pooling2d_3 (MaxPoolin  (1, 30, 30, 32)           0         \n",
      " g2D)                                                            \n",
      "                                                                 \n",
      " flatten_2 (Flatten)         (1, 28800)                0         \n",
      "                                                                 \n",
      " dense_2 (Dense)             (1, 16)                   460816    \n",
      "                                                                 \n",
      "=================================================================\n",
      "Total params: 473648 (1.81 MB)\n",
      "Trainable params: 473648 (1.81 MB)\n",
      "Non-trainable params: 0 (0.00 Byte)\n",
      "_________________________________________________________________\n"
     ]
    }
   ],
   "source": [
    "import keras\n",
    "from keras.models import Sequential\n",
    "from keras.layers import Dense, Conv2D, MaxPool2D, Flatten, Reshape\n",
    "import numpy as np\n",
    "\n",
    "n_filter1 = 32\n",
    "n_filter2 = 1\n",
    "filter_size1 = 5\n",
    "filter_size2 = 1\n",
    "\n",
    "# Write your codes to define the CNN model\n",
    "reshape_layer=Reshape((64,64,16))\n",
    "cnn_layer1=Conv2D(n_filter1,filter_size1,input_shape=(64,64,1))\n",
    "cnn_layer2 = Conv2D(n_filter2,filter_size2,input_shape=(30,30,1))\n",
    "pooling_layer = MaxPool2D(2) \n",
    "flatten_layer = Flatten()\n",
    "dense_layer = Dense(16, activation='sigmoid')\n",
    "\n",
    "model =Sequential()\n",
    "model.add(reshape_layer)\n",
    "model.add(cnn_layer1)\n",
    "model.add(pooling_layer)\n",
    "model.add(flatten_layer)\n",
    "model.add(dense_layer)\n",
    "# Test the CNN model\n",
    "x = keras.backend.constant(np.random.randn(1, 256, 256))\n",
    "y = model(x)\n",
    "model.summary()"
   ]
  },
  {
   "cell_type": "markdown",
   "id": "04aaa96d-d1d3-4d1b-855f-f61ab375868c",
   "metadata": {
    "tags": []
   },
   "source": [
    "## Problem 2: Defining a CNN model with Keras (2)\n",
    "#### Using the Functional API to define another CNN model. The CNN model follows the architecture below and outputs the model summary.\n",
    "![avatar](cnn2.png)"
   ]
  },
  {
   "cell_type": "code",
   "execution_count": 9,
   "id": "d3b83a03-eff0-4bba-8b2b-772f40a19468",
   "metadata": {
    "tags": []
   },
   "outputs": [
    {
     "name": "stdout",
     "output_type": "stream",
     "text": [
      "(1, 60, 60, 16)\n"
     ]
    }
   ],
   "source": [
    "import keras\n",
    "from keras.models import Model\n",
    "from keras.layers import Dense, Conv2D, MaxPool2D, Flatten, Reshape,concatenate\n",
    "import numpy as np\n",
    "\n",
    "n_filter1 = 8\n",
    "n_filter2 = 8\n",
    "filter_size1 = 5\n",
    "filter_size2 = 17\n",
    "\n",
    "x = keras.backend.constant(np.random.randn(1, 256, 256))\n",
    "\n",
    "# Write your codes to define your CNN model\n",
    "x11=Reshape((64,64,16))(x)\n",
    "x21=Reshape((256,256,1))(x)\n",
    "x12=Conv2D(n_filter1,filter_size1,input_shape=(64,64,1))(x11)\n",
    "x22=Conv2D(n_filter2,filter_size2,input_shape=(256,256,1))(x21)\n",
    "x23=MaxPool2D(4)(x22)\n",
    "\n",
    "x3=concatenate([x12,x23])\n",
    "print(x3.shape)"
   ]
  },
  {
   "cell_type": "markdown",
   "id": "89e3920e-0510-4884-95f1-4d2b223d9e26",
   "metadata": {},
   "source": [
    "## Problem 3: Loss Functions (Mean Squared Error vs. Mean Absolute Error)\n",
    "#### Given y_true and y_pred, calculating the MSE and MAE values  \n",
    "#### Task 3.1 Measure the MSE value \n",
    "#### Task 3.2 Measure the MAE value"
   ]
  },
  {
   "cell_type": "code",
   "execution_count": 12,
   "id": "01d13916-b71f-4ce6-bf31-60d1c84beff1",
   "metadata": {
    "tags": []
   },
   "outputs": [
    {
     "name": "stdout",
     "output_type": "stream",
     "text": [
      "The MSE value is 0.8725000023841858\n",
      "The MAE value is 0.925000011920929\n"
     ]
    }
   ],
   "source": [
    "import keras\n",
    "from keras.losses import MeanAbsoluteError, MeanSquaredError\n",
    "mse = MeanSquaredError()\n",
    "mae = MeanAbsoluteError()\n",
    "\n",
    "y_true = [[0., 0.3], [0., 1.]]\n",
    "y_pred = [[1., 1.], [1., 0.]]\n",
    "\n",
    "# Mean Squared Error (MSE) \n",
    "# Task 3.1 Write your codes to measure the MSE value\n",
    "z_mse=mse(y_true,y_pred)\n",
    "\n",
    "print(\"The MSE value is {}\".format(z_mse.numpy()))\n",
    "\n",
    "\n",
    "# Mean Absolute Error (MAE)\n",
    "# Task 3.2 Write your codes to measure the MAE value\n",
    "z_mae=mae(y_true,y_pred)\n",
    "\n",
    "print(\"The MAE value is {}\".format(z_mae.numpy()))"
   ]
  },
  {
   "cell_type": "markdown",
   "id": "38ec248f-262c-48c7-abfb-bab9e25e71f6",
   "metadata": {},
   "source": [
    "## Problem 4: Loss Functions (Categorical Cross-Entropy)\n",
    "#### Given y_true and y_pred, calculating the Categorical Cross-Entropy value"
   ]
  },
  {
   "cell_type": "code",
   "execution_count": 13,
   "id": "0cff5ec6-b299-43c4-a18d-8ec2686f7336",
   "metadata": {
    "tags": []
   },
   "outputs": [
    {
     "name": "stdout",
     "output_type": "stream",
     "text": [
      "The Categorical Cross-Entropy value is 1.1769392490386963\n"
     ]
    }
   ],
   "source": [
    "import keras\n",
    "from keras.losses import CategoricalCrossentropy, SparseCategoricalCrossentropy, BinaryCrossentropy\n",
    "\n",
    "y_true = [[0, 1, 0], [0, 0, 1]]\n",
    "y_pred = [[0.05, 0.95, 0], [0.1, 0.8, 0.1]]\n",
    "\n",
    "# Categorical Cross-entropy\n",
    "# Write your codes to measure the categorical cross-entropy\n",
    "loss = CategoricalCrossentropy()\n",
    "z = loss(y_true,y_pred)\n",
    "print(\"The Categorical Cross-Entropy value is {}\".format(z.numpy()))"
   ]
  },
  {
   "cell_type": "markdown",
   "id": "40f389b2-8118-47d6-ae2c-14382f900514",
   "metadata": {},
   "source": [
    "## Problem 5: Loss Functions (Sparse Cross-Entropy)\n",
    "#### Given y_true and y_pred, calculating the Sparse Cross-Entropy value"
   ]
  },
  {
   "cell_type": "code",
   "execution_count": 14,
   "id": "e2914ad4-1609-448f-af60-23d602502404",
   "metadata": {
    "tags": []
   },
   "outputs": [
    {
     "name": "stdout",
     "output_type": "stream",
     "text": [
      "The Sparse Cross-Entropy value is 1.1769392490386963\n"
     ]
    }
   ],
   "source": [
    "import keras\n",
    "from keras.losses import SparseCategoricalCrossentropy\n",
    "\n",
    "y_true = [1, 2]\n",
    "y_pred = [[0.05, 0.95, 0], [0.1, 0.8, 0.1]]\n",
    "\n",
    "# Sparse Cross-entropy\n",
    "## Write your codes to measure the Sparse Categorical-entropy\n",
    "loss = SparseCategoricalCrossentropy()\n",
    "z=loss(y_true,y_pred)\n",
    "\n",
    "print(\"The Sparse Cross-Entropy value is {}\".format(z.numpy()))"
   ]
  },
  {
   "cell_type": "markdown",
   "id": "f7a0a9e2-2515-4ebc-9df9-bfcafc45c66b",
   "metadata": {
    "tags": []
   },
   "source": [
    "## Problem 6: Loss Functions (Binary Cross-Entropy)\n",
    "#### Given y_true and y_pred, calculating the Binary Cross-Entropy value"
   ]
  },
  {
   "cell_type": "code",
   "execution_count": 15,
   "id": "dfa3abf2-3263-46e4-8b7d-3b84200b2cdd",
   "metadata": {
    "tags": []
   },
   "outputs": [
    {
     "name": "stdout",
     "output_type": "stream",
     "text": [
      "The Binary Cross-Entropy value is 4.001645565032959\n"
     ]
    }
   ],
   "source": [
    "import keras\n",
    "from keras.losses import BinaryCrossentropy\n",
    "\n",
    "y_true = [0, 1, 0, 0]\n",
    "y_pred = [-18.6, 0.51, 2.94, -12.8]\n",
    "\n",
    "# Binary Cross-entropy\n",
    "# Write your codes to measure the Binary Cross-entropy\n",
    "loss = BinaryCrossentropy() \n",
    "z = loss(y_true, y_pred) \n",
    "print(\"The Binary Cross-Entropy value is {}\".format(z.numpy()))"
   ]
  },
  {
   "cell_type": "markdown",
   "id": "37f9875a-ca02-4909-b90f-33a06b1667ba",
   "metadata": {},
   "source": [
    "## Problem 7: Optimizer and Evaluation\n",
    "#### Task 7.1 set up the deep learning model based on the given DNN structure.\n",
    "###### Input(28x28x1) -> Conv2D(32, kernel_size=3) -> MaxPooling2D(2) -> Conv2D(64, kernel_size=3) -> MaxPooling2D(2) -> Dropout(0.5) -> Dense(10, 'softmax')\n",
    "##### Task 7.1 using Adam optimizer and fitting the CNN model \n",
    "##### Task 7.2 evaluating the performance on test data"
   ]
  },
  {
   "cell_type": "code",
   "execution_count": 1,
   "id": "b0079eff",
   "metadata": {},
   "outputs": [
    {
     "name": "stdout",
     "output_type": "stream",
     "text": [
      "Downloading data from https://storage.googleapis.com/tensorflow/tf-keras-datasets/mnist.npz\n",
      "11490434/11490434 [==============================] - 2s 0us/step\n",
      "x_train shape: (60000, 28, 28, 1)\n",
      "60000 train samples\n",
      "10000 test samples\n",
      "Model: \"sequential\"\n",
      "_________________________________________________________________\n",
      " Layer (type)                Output Shape              Param #   \n",
      "=================================================================\n",
      " conv2d (Conv2D)             (None, 26, 26, 32)        320       \n",
      "                                                                 \n",
      " max_pooling2d (MaxPooling2  (None, 13, 13, 32)        0         \n",
      " D)                                                              \n",
      "                                                                 \n",
      " conv2d_1 (Conv2D)           (None, 11, 11, 64)        18496     \n",
      "                                                                 \n",
      " max_pooling2d_1 (MaxPoolin  (None, 5, 5, 64)          0         \n",
      " g2D)                                                            \n",
      "                                                                 \n",
      " flatten (Flatten)           (None, 1600)              0         \n",
      "                                                                 \n",
      " dropout (Dropout)           (None, 1600)              0         \n",
      "                                                                 \n",
      " dense (Dense)               (None, 10)                16010     \n",
      "                                                                 \n",
      "=================================================================\n",
      "Total params: 34826 (136.04 KB)\n",
      "Trainable params: 34826 (136.04 KB)\n",
      "Non-trainable params: 0 (0.00 Byte)\n",
      "_________________________________________________________________\n",
      "Epoch 1/15\n",
      "422/422 [==============================] - 10s 22ms/step - loss: 0.3564 - accuracy: 0.8934 - val_loss: 0.0819 - val_accuracy: 0.9770\n",
      "Epoch 2/15\n",
      "422/422 [==============================] - 9s 22ms/step - loss: 0.1139 - accuracy: 0.9655 - val_loss: 0.0588 - val_accuracy: 0.9837\n",
      "Epoch 3/15\n",
      "422/422 [==============================] - 10s 23ms/step - loss: 0.0860 - accuracy: 0.9740 - val_loss: 0.0495 - val_accuracy: 0.9870\n",
      "Epoch 4/15\n",
      "422/422 [==============================] - 10s 23ms/step - loss: 0.0733 - accuracy: 0.9775 - val_loss: 0.0483 - val_accuracy: 0.9862\n",
      "Epoch 5/15\n",
      "422/422 [==============================] - 10s 23ms/step - loss: 0.0638 - accuracy: 0.9807 - val_loss: 0.0415 - val_accuracy: 0.9882\n",
      "Epoch 6/15\n",
      "422/422 [==============================] - 10s 25ms/step - loss: 0.0576 - accuracy: 0.9818 - val_loss: 0.0376 - val_accuracy: 0.9907\n",
      "Epoch 7/15\n",
      "422/422 [==============================] - 11s 27ms/step - loss: 0.0527 - accuracy: 0.9835 - val_loss: 0.0371 - val_accuracy: 0.9902\n",
      "Epoch 8/15\n",
      "422/422 [==============================] - 11s 26ms/step - loss: 0.0490 - accuracy: 0.9848 - val_loss: 0.0342 - val_accuracy: 0.9900\n",
      "Epoch 9/15\n",
      "422/422 [==============================] - 11s 26ms/step - loss: 0.0448 - accuracy: 0.9858 - val_loss: 0.0342 - val_accuracy: 0.9905\n",
      "Epoch 10/15\n",
      "422/422 [==============================] - 11s 26ms/step - loss: 0.0416 - accuracy: 0.9865 - val_loss: 0.0321 - val_accuracy: 0.9915\n",
      "Epoch 11/15\n",
      "422/422 [==============================] - 11s 26ms/step - loss: 0.0405 - accuracy: 0.9873 - val_loss: 0.0311 - val_accuracy: 0.9920\n",
      "Epoch 12/15\n",
      "422/422 [==============================] - 11s 26ms/step - loss: 0.0383 - accuracy: 0.9872 - val_loss: 0.0305 - val_accuracy: 0.9913\n",
      "Epoch 13/15\n",
      "422/422 [==============================] - 11s 26ms/step - loss: 0.0373 - accuracy: 0.9883 - val_loss: 0.0298 - val_accuracy: 0.9917\n",
      "Epoch 14/15\n",
      "422/422 [==============================] - 11s 26ms/step - loss: 0.0336 - accuracy: 0.9889 - val_loss: 0.0300 - val_accuracy: 0.9922\n",
      "Epoch 15/15\n",
      "422/422 [==============================] - 11s 25ms/step - loss: 0.0321 - accuracy: 0.9888 - val_loss: 0.0314 - val_accuracy: 0.9918\n",
      "Test loss: 0.024647226557135582\n",
      "Test accuracy: 0.9923999905586243\n"
     ]
    }
   ],
   "source": [
    "import keras\n",
    "from keras.models import Sequential\n",
    "from keras.layers import Dense, Conv2D, MaxPool2D, Flatten, Dropout, MaxPooling2D\n",
    "import numpy as np\n",
    "\n",
    "# Model / data parameters\n",
    "num_classes = 10\n",
    "input_shape = (28, 28, 1)\n",
    "\n",
    "# Load the data and split it between train and test sets\n",
    "(x_train, y_train), (x_test, y_test) = keras.datasets.mnist.load_data()\n",
    "\n",
    "# Scale images to the [0, 1] range\n",
    "x_train = x_train.astype(\"float32\") / 255\n",
    "x_test = x_test.astype(\"float32\") / 255\n",
    "# Make sure images have shape (28, 28, 1)\n",
    "x_train = np.expand_dims(x_train, -1)\n",
    "x_test = np.expand_dims(x_test, -1)\n",
    "print(\"x_train shape:\", x_train.shape)\n",
    "print(x_train.shape[0], \"train samples\")\n",
    "print(x_test.shape[0], \"test samples\")\n",
    "\n",
    "\n",
    "# convert class vectors to binary class matrices\n",
    "y_train = keras.utils.to_categorical(y_train, num_classes)\n",
    "y_test = keras.utils.to_categorical(y_test, num_classes)\n",
    "\n",
    "model = keras.Sequential(\n",
    "    [\n",
    "        keras.Input(shape=input_shape),\n",
    "        Conv2D(32, kernel_size=(3, 3), activation=\"relu\"),\n",
    "        MaxPooling2D(pool_size=(2, 2)),\n",
    "        Conv2D(64, kernel_size=(3, 3), activation=\"relu\"),\n",
    "        MaxPooling2D(pool_size=(2, 2)),\n",
    "        Flatten(),\n",
    "        Dropout(0.5),\n",
    "        Dense(num_classes, activation=\"softmax\"),\n",
    "    ]\n",
    ")\n",
    "model.summary()\n",
    "\n",
    "batch_size = 128\n",
    "epochs = 15\n",
    "\n",
    "# Write your codes to set up Adam optimizer and fit the CNN model\n",
    "model.compile(optimizer=\"adam\", loss=\"categorical_crossentropy\", metrics=['accuracy'])\n",
    "model.fit(x_train, y_train, batch_size=batch_size, epochs=epochs, validation_split=0.1)\n",
    "# Evaluate the performance on the test data\n",
    "score = model.evaluate(x_test, y_test, verbose=0)\n",
    "print(\"Test loss:\", score[0])\n",
    "print(\"Test accuracy:\", score[1])"
   ]
  },
  {
   "cell_type": "markdown",
   "id": "9c798a38-c5c1-4e9a-a537-b1c9cf07aa3a",
   "metadata": {},
   "source": [
    "## Exercise 2"
   ]
  },
  {
   "cell_type": "markdown",
   "id": "0c66b102-b3c9-4f5d-9ab4-71c924b0d169",
   "metadata": {},
   "source": [
    "#### Defining your customized CNN or DNN model for pattern classification on the Fashion MNIST dataset."
   ]
  },
  {
   "cell_type": "code",
   "execution_count": 10,
   "id": "e0c91e91-5298-4623-bdd6-2c1cd8a08b8e",
   "metadata": {
    "tags": []
   },
   "outputs": [],
   "source": [
    "# baseline cnn model for fashion mnist\n",
    "from numpy import mean\n",
    "from numpy import std\n",
    "from matplotlib import pyplot\n",
    "from sklearn.model_selection import KFold\n",
    "from keras.datasets import fashion_mnist\n",
    "from keras.utils import to_categorical\n",
    "from keras.models import Sequential\n",
    "from keras.layers import Conv2D\n",
    "from keras.layers import MaxPooling2D\n",
    "from keras.layers import Dense\n",
    "from keras.layers import Flatten\n",
    "from keras.optimizers import SGD"
   ]
  },
  {
   "cell_type": "markdown",
   "id": "8b9e60ea-ef3a-457a-b999-74fbb9c07148",
   "metadata": {},
   "source": [
    "##### Loading the Fashion MNIST dataset"
   ]
  },
  {
   "cell_type": "code",
   "execution_count": 11,
   "id": "2b675334-eae1-4f7c-8939-540522e384e0",
   "metadata": {
    "tags": []
   },
   "outputs": [],
   "source": [
    "# load train and test dataset\n",
    "def load_dataset():\n",
    "    # load dataset\n",
    "    (trainX, trainY), (testX, testY) = fashion_mnist.load_data()\n",
    "    # reshape dataset to have a single channel\n",
    "    trainX = trainX.reshape((trainX.shape[0], 28, 28, 1))\n",
    "    testX = testX.reshape((testX.shape[0], 28, 28, 1))\n",
    "    # one hot encode target values\n",
    "    trainY = to_categorical(trainY)\n",
    "    testY = to_categorical(testY)\n",
    "    \n",
    "    return trainX, trainY, testX, testY"
   ]
  },
  {
   "cell_type": "code",
   "execution_count": 12,
   "id": "d8aee965-08be-4e0a-b912-9d1e011714ef",
   "metadata": {
    "tags": []
   },
   "outputs": [],
   "source": [
    "# scale pixels\n",
    "def prep_pixels(train, test):\n",
    "    # convert from integers to floats\n",
    "    train_norm = train.astype('float32')\n",
    "    test_norm = test.astype('float32')\n",
    "    # normalize to range 0-1\n",
    "    train_norm = train_norm / 255.0\n",
    "    test_norm = test_norm / 255.0\n",
    "    # return normalized images\n",
    "\n",
    "    return train_norm, test_norm"
   ]
  },
  {
   "cell_type": "markdown",
   "id": "36cf3f06-0605-489f-a269-9fee0a2b6476",
   "metadata": {},
   "source": [
    "##### Defining your customised CNN or DNN model as shown in classes using Keras"
   ]
  },
  {
   "cell_type": "code",
   "execution_count": 13,
   "id": "941e1575-286f-4af8-835b-d829cb5198c7",
   "metadata": {
    "tags": []
   },
   "outputs": [],
   "source": [
    "# define CNN model\n",
    "def define_model():\n",
    "    model = Sequential()\n",
    "    # Write your codes to define your model\n",
    "    model.add(Conv2D(32, (3, 3), activation='relu', kernel_initializer='he_uniform', input_shape=(28, 28, 1)))\n",
    "    model.add(MaxPooling2D((2, 2)))\n",
    "    model.add(Flatten())\n",
    "    model.add(Dense(100, activation='relu', kernel_initializer='he_uniform'))\n",
    "    model.add(Dense(10, activation='softmax'))\n",
    "    \n",
    "    # compile model\n",
    "    opt = SGD(learning_rate=0.01, momentum=0.9)\n",
    "    model.compile(optimizer=opt, loss='categorical_crossentropy', metrics=['accuracy'])\n",
    "    \n",
    "    return model"
   ]
  },
  {
   "cell_type": "code",
   "execution_count": 14,
   "id": "cc5fee12-b6a6-4f0d-bf44-07d2ff7e2436",
   "metadata": {
    "tags": []
   },
   "outputs": [],
   "source": [
    "# evaluate a model using k-fold cross-validation\n",
    "def evaluate_model(dataX, dataY, n_folds=5):\n",
    "    scores, histories = list(), list()\n",
    "    # prepare cross validation\n",
    "    kfold = KFold(n_folds, shuffle=True, random_state=1)\n",
    "    \n",
    "    # enumerate splits\n",
    "    for train_ix, test_ix in kfold.split(dataX):\n",
    "        # define model\n",
    "        model = define_model()\n",
    "        # select rows for train and test\n",
    "        trainX, trainY, testX, testY = dataX[train_ix], dataY[train_ix], dataX[test_ix], dataY[test_ix]\n",
    "        # fit model\n",
    "        history = model.fit(trainX, trainY, epochs=10, batch_size=32, validation_data=(testX, testY), verbose=0)\n",
    "        # evaluate model\n",
    "        \n",
    "    _, acc = model.evaluate(testX, testY, verbose=0)\n",
    "    print('> %.3f' % (acc * 100.0))\n",
    "    # append scores\n",
    "    scores.append(acc)\n",
    "    histories.append(history)\n",
    "    \n",
    "    return scores, histories"
   ]
  },
  {
   "cell_type": "code",
   "execution_count": 15,
   "id": "fff1fede-c61d-43c3-936c-7d3930506b24",
   "metadata": {
    "tags": []
   },
   "outputs": [],
   "source": [
    "# plot diagnostic learning curves\n",
    "def summarize_diagnostics(histories):\n",
    "    for i in range(len(histories)):\n",
    "        # plot loss\n",
    "        pyplot.subplot(211)\n",
    "        pyplot.title('Cross Entropy Loss')\n",
    "        pyplot.plot(histories[i].history['loss'], color='blue', label='train')\n",
    "        pyplot.plot(histories[i].history['val_loss'], color='orange', label='test')\n",
    "        # plot accuracy\n",
    "        pyplot.subplot(212)\n",
    "        pyplot.title('Classification Accuracy')\n",
    "        pyplot.plot(histories[i].history['accuracy'], color='blue', label='train')\n",
    "        pyplot.plot(histories[i].history['val_accuracy'], color='orange', label='test')\n",
    "        pyplot.show()"
   ]
  },
  {
   "cell_type": "code",
   "execution_count": 16,
   "id": "f20ee057-00ac-45e3-ba5a-ebe0be4c8ab9",
   "metadata": {
    "tags": []
   },
   "outputs": [],
   "source": [
    "# summarize model performance\n",
    "def summarize_performance(scores):\n",
    "    # print summary\n",
    "    print('Accuracy: mean=%.3f std=%.3f, n=%d' % (mean(scores)*100, std(scores)*100, len(scores)))\n",
    "    # box and whisker plots of results\n",
    "    pyplot.boxplot(scores)\n",
    "    pyplot.show()"
   ]
  },
  {
   "cell_type": "code",
   "execution_count": 17,
   "id": "6538ffc8-ebe1-4b9a-9e57-66f44f0c793c",
   "metadata": {
    "tags": []
   },
   "outputs": [],
   "source": [
    "# run the test harness for evaluating a model\n",
    "def run_test_harness():\n",
    "    # load dataset\n",
    "    trainX, trainY, testX, testY = load_dataset()\n",
    "    # prepare pixel data\n",
    "    trainX, testX = prep_pixels(trainX, testX)\n",
    "    # evaluate model\n",
    "    scores, histories = evaluate_model(trainX, trainY)\n",
    "    # learning curves\n",
    "    summarize_diagnostics(histories)\n",
    "    # summarize estimated performance\n",
    "    summarize_performance(scores)"
   ]
  },
  {
   "cell_type": "code",
   "execution_count": 18,
   "id": "413b8527-818b-449e-8517-b098fd5d22c0",
   "metadata": {},
   "outputs": [
    {
     "name": "stdout",
     "output_type": "stream",
     "text": [
      "> 91.267\n"
     ]
    },
    {
     "data": {
      "image/png": "[encoded data removed]",
      "text/plain": [
       "<Figure size 640x480 with 2 Axes>"
      ]
     },
     "metadata": {},
     "output_type": "display_data"
    },
    {
     "name": "stdout",
     "output_type": "stream",
     "text": [
      "Accuracy: mean=91.267 std=0.000, n=1\n"
     ]
    },
    {
     "data": {
      "image/png": "[encoded data removed]",
      "text/plain": [
       "<Figure size 640x480 with 1 Axes>"
      ]
     },
     "metadata": {},
     "output_type": "display_data"
    }
   ],
   "source": [
    "# entry point, run the test harness\n",
    "run_test_harness()"
   ]
  },
  {
   "cell_type": "code",
   "execution_count": null,
   "id": "faa549ed",
   "metadata": {},
   "outputs": [],
   "source": []
  }
 ],
 "metadata": {
  "kernelspec": {
   "display_name": "Python 3 (ipykernel)",
   "language": "python",
   "name": "python3"
  },
  "language_info": {
   "codemirror_mode": {
    "name": "ipython",
    "version": 3
   },
   "file_extension": ".py",
   "mimetype": "text/x-python",
   "name": "python",
   "nbconvert_exporter": "python",
   "pygments_lexer": "ipython3",
   "version": "3.11.4"
  }
 },
 "nbformat": 4,
 "nbformat_minor": 5
}
