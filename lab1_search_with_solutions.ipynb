{
 "cells": [
  {
   "cell_type": "markdown",
   "metadata": {
    "id": "QBmfNrus59Cu"
   },
   "source": [
    "# COMP7015: Artificial Intelligence *(Semester 1, 2023/24)*\n",
    "\n",
    "# Lab1: Solving Problems by Searching\n",
    "\n",
    "In this lab session, we will learn how to solve problems using search algorithms. Specifically, we will learn the implementation of BFS, DFS, uniform-cost search and greedy search using the path-finding problem. The A* search will be left to you as an exercise.\n",
    "\n",
    "\n",
    "**Course Instructor: Dr. Kejing Yin (Department of Computer Science, Hong Kong Baptist University)**  \n",
    "**Lab Instructor: Mr. Kenny Cheng (Department of Computer Science, Hong Kong Baptist University)**\n",
    "\n",
    "*This lab sheet is created by Dr. Kejing Yin and is licenced under the MIT license.*\n",
    "\n",
    "> MIT License\n",
    "> \n",
    "> Copyright (c) 2023 Kejing Yin\n",
    "> \n",
    "> Permission is hereby granted, free of charge, to any person obtaining a copy\n",
    "> of this software and associated documentation files (the \"Software\"), to deal\n",
    "> in the Software without restriction, including without limitation the rights\n",
    "> to use, copy, modify, merge, publish, distribute, sublicense, and/or sell\n",
    "> copies of the Software, and to permit persons to whom the Software is\n",
    "> furnished to do so, subject to the following conditions:\n",
    "> \n",
    "> The above copyright notice and this permission notice shall be included in all\n",
    "> copies or substantial portions of the Software.\n",
    "> \n",
    "> THE SOFTWARE IS PROVIDED \"AS IS\", WITHOUT WARRANTY OF ANY KIND, EXPRESS OR\n",
    "> IMPLIED, INCLUDING BUT NOT LIMITED TO THE WARRANTIES OF MERCHANTABILITY,\n",
    "> FITNESS FOR A PARTICULAR PURPOSE AND NONINFRINGEMENT. IN NO EVENT SHALL THE\n",
    "> AUTHORS OR COPYRIGHT HOLDERS BE LIABLE FOR ANY CLAIM, DAMAGES OR OTHER\n",
    "> LIABILITY, WHETHER IN AN ACTION OF CONTRACT, TORT OR OTHERWISE, ARISING FROM,\n",
    "> OUT OF OR IN CONNECTION WITH THE SOFTWARE OR THE USE OR OTHER DEALINGS IN THE\n",
    "> SOFTWARE."
   ]
  },
  {
   "cell_type": "markdown",
   "metadata": {},
   "source": [
    "## 1. Queues for the frontiers list"
   ]
  },
  {
   "cell_type": "markdown",
   "metadata": {},
   "source": [
    "<div>\n",
    "    <img src=\"figs/fifo_lifo.png\"/>\n",
    "</div>\n",
    "\n",
    "\n",
    "**FIFO Queue**: the last element inserted/recorded is consumed first.\n",
    "\n",
    "**LIFO Queue**: the oldest element is consumed first.\n",
    "\n",
    "**Priority Queue**: each element is associated with a priority value and the elements with minimal values are consumed first."
   ]
  },
  {
   "cell_type": "markdown",
   "metadata": {},
   "source": [
    "In Python, we can use the standard library [queue](https://docs.python.org/3/library/queue.html). \n",
    "\n",
    "Please do read its documentations: https://docs.python.org/3/library/queue.html\n",
    "\n",
    "Let's see an example:"
   ]
  },
  {
   "cell_type": "code",
   "execution_count": 1,
   "metadata": {},
   "outputs": [
    {
     "name": "stdout",
     "output_type": "stream",
     "text": [
      "Size of the queue before adding any elements into it: 0\n",
      "Is the queue empty? True\n",
      "\n",
      "Putting A into the queue\n",
      "Size of the queue: 1\n",
      "Putting B into the queue\n",
      "Size of the queue: 2\n",
      "Putting C into the queue\n",
      "Size of the queue: 3\n",
      "\n",
      "Is the queue empty now? False\n"
     ]
    }
   ],
   "source": [
    "# import the package\n",
    "import queue\n",
    "\n",
    "# Define a FIFO queue\n",
    "frontiers = queue.Queue()\n",
    "\n",
    "# use `qsize` method to get the approximate size of the queue\n",
    "print('Size of the queue before adding any elements into it:', frontiers.qsize())\n",
    "\n",
    "# use `empty` method to check if it is empty\n",
    "print('Is the queue empty?', frontiers.empty())\n",
    "\n",
    "print()\n",
    "for x in ['A', 'B', 'C']:\n",
    "    print(f'Putting {x} into the queue')\n",
    "    frontiers.put(x)  # put x into the queue\n",
    "    print('Size of the queue:', frontiers.qsize())  # check the size\n",
    "    \n",
    "print()\n",
    "print('Is the queue empty now?', frontiers.empty())"
   ]
  },
  {
   "cell_type": "markdown",
   "metadata": {},
   "source": [
    "To get an element, we use the `get` method."
   ]
  },
  {
   "cell_type": "code",
   "execution_count": 2,
   "metadata": {
    "id": "9eBdGN4QbQIu"
   },
   "outputs": [
    {
     "name": "stdout",
     "output_type": "stream",
     "text": [
      "The next value we get is: A\n",
      "The next value we get is: B\n",
      "The next value we get is: C\n"
     ]
    }
   ],
   "source": [
    "while not frontiers.empty():\n",
    "    print('The next value we get is:', frontiers.get())"
   ]
  },
  {
   "cell_type": "markdown",
   "metadata": {},
   "source": [
    "We are using FIFO queue. You can see that the first element is A, which is the first element we put into the queue."
   ]
  },
  {
   "cell_type": "markdown",
   "metadata": {},
   "source": [
    "### LIFO Queue"
   ]
  },
  {
   "cell_type": "code",
   "execution_count": 3,
   "metadata": {},
   "outputs": [],
   "source": [
    "# define a LIFO queue\n",
    "frontiers = queue.LifoQueue()"
   ]
  },
  {
   "cell_type": "code",
   "execution_count": 4,
   "metadata": {},
   "outputs": [
    {
     "name": "stdout",
     "output_type": "stream",
     "text": [
      "Putting A into the queue\n",
      "Size of the queue: 1\n",
      "Putting B into the queue\n",
      "Size of the queue: 2\n",
      "Putting C into the queue\n",
      "Size of the queue: 3\n"
     ]
    }
   ],
   "source": [
    "# again, we add three elements into the queue\n",
    "for x in ['A', 'B', 'C']:\n",
    "    print(f'Putting {x} into the queue')\n",
    "    frontiers.put(x)  # put x into the queue\n",
    "    print('Size of the queue:', frontiers.qsize())  # check the size"
   ]
  },
  {
   "cell_type": "code",
   "execution_count": 5,
   "metadata": {},
   "outputs": [
    {
     "name": "stdout",
     "output_type": "stream",
     "text": [
      "The next value we get is: C\n",
      "The next value we get is: B\n",
      "The next value we get is: A\n"
     ]
    }
   ],
   "source": [
    "# take out elements one by one\n",
    "while not frontiers.empty():\n",
    "    print('The next value we get is:', frontiers.get())"
   ]
  },
  {
   "cell_type": "markdown",
   "metadata": {},
   "source": [
    "In FIFO queue, the first element we get is C, which is the last element we put into the queue."
   ]
  },
  {
   "cell_type": "markdown",
   "metadata": {},
   "source": [
    "### Priority Queue"
   ]
  },
  {
   "cell_type": "code",
   "execution_count": 6,
   "metadata": {},
   "outputs": [],
   "source": [
    "# define a Priority queue\n",
    "frontiers = queue.PriorityQueue()"
   ]
  },
  {
   "cell_type": "code",
   "execution_count": 7,
   "metadata": {},
   "outputs": [
    {
     "name": "stdout",
     "output_type": "stream",
     "text": [
      "Size of the queue: 3\n"
     ]
    }
   ],
   "source": [
    "# again, we add three elements into the queue, but this time, we add together with a priority value.\n",
    "frontiers.put((2, 'A'))\n",
    "frontiers.put((1, 'B'))\n",
    "frontiers.put((5, 'C'))\n",
    "\n",
    "print('Size of the queue:', frontiers.qsize())  # check the size"
   ]
  },
  {
   "cell_type": "code",
   "execution_count": 8,
   "metadata": {},
   "outputs": [
    {
     "name": "stdout",
     "output_type": "stream",
     "text": [
      "The next value we get is: (1, 'B')\n",
      "The next value we get is: (2, 'A')\n",
      "The next value we get is: (5, 'C')\n"
     ]
    }
   ],
   "source": [
    "# take out elements one by one\n",
    "while not frontiers.empty():\n",
    "    print('The next value we get is:', frontiers.get())"
   ]
  },
  {
   "cell_type": "markdown",
   "metadata": {},
   "source": [
    "In Priority queue, the first element we get is B, which is the element with the smallest priority value."
   ]
  },
  {
   "cell_type": "markdown",
   "metadata": {},
   "source": [
    "## 2. Pseudo-codes of search algorithms"
   ]
  },
  {
   "cell_type": "markdown",
   "metadata": {},
   "source": [
    "All search algorithms can be summarized using the following pseudo codes.\n",
    "</br>\n",
    "</br>\n",
    "<div>\n",
    "    <img src=\"figs/pseudo_code.png\" width=95%/>\n",
    "</div>\n",
    "The differences between different algorithms is how they choose the node to be expanded next, when to test if the node is a goal state, and whether store the visited nodes."
   ]
  },
  {
   "cell_type": "markdown",
   "metadata": {},
   "source": [
    "## 3. How to `expand` a node\n",
    "\n",
    "For each search problem, we need to know all possible actions and the associated costs from a particular state and the resulting state of taking each action. In the path-finding problem, for each state (location in the map), we can simply store the locations that we can go to from the given location and the cost of taking each action. For example, given the following map:\n",
    "\n",
    "\n",
    "<div>\n",
    "    <img src=\"figs/map1.png\" width=\"400px\"/>\n",
    "</div>\n",
    "\n",
    "A simple way to represent this map is to use a `dict`."
   ]
  },
  {
   "cell_type": "code",
   "execution_count": 9,
   "metadata": {},
   "outputs": [],
   "source": [
    "graph = {\n",
    "    'A': [('B', 1), ('D', 2)],  # from A, we can go to B and D, with costs 1 and 2, respectively.\n",
    "    'B': [('A', 1), ('C', 4), ('D', 2)],  # from B, we can go to A, C, and D\n",
    "    'C': [('B', 4)],  # from C, we can go to B\n",
    "    'D': [('A', 2), ('B', 2)]  # from D, we can got to A and B\n",
    "}"
   ]
  },
  {
   "cell_type": "code",
   "execution_count": 10,
   "metadata": {},
   "outputs": [
    {
     "name": "stdout",
     "output_type": "stream",
     "text": [
      "[('A', 1), ('C', 4), ('D', 2)]\n"
     ]
    }
   ],
   "source": [
    "# to retrieve the actions, we can use the current state to index this dict\n",
    "print(graph['B'])  # print out the possible actions from the location B"
   ]
  },
  {
   "cell_type": "markdown",
   "metadata": {},
   "source": [
    "Later, we will see how to define a function to get possible actions from each state for other problems like 8-puzzle."
   ]
  },
  {
   "cell_type": "markdown",
   "metadata": {},
   "source": [
    "### *Try it out!*\n",
    "\n",
    "Represent the following map in a `dict` named \"romanian_graph\".\n",
    "\n",
    "<div>\n",
    "    <img src=\"figs/romanian_graph.png\" width=\"100%\"/>\n",
    "</div>\n"
   ]
  },
  {
   "cell_type": "code",
   "execution_count": 11,
   "metadata": {},
   "outputs": [],
   "source": [
    "romanian_graph = {\n",
    "    'Arad': [('Zerind', 75), ('Sibiu', 140), ('Timisoara', 118)],  # finish the remaining\n",
    "    'Zerind': [('Oradea', 71), ('Arad', 75)],\n",
    "    'Oradea': [('Zerind', 71), ('Sibiu', 151)],\n",
    "    'Sibiu': [('Fagaras', 99), ('Rimnicu Vilcea', 80), ('Oradea', 151), ('Arad', 140)],\n",
    "    'Timisoara': [('Lugoj', 111), ('Arad', 118)],\n",
    "    'Lugoj': [('Mehadia', 70), ('Timisoara', 111)],\n",
    "    'Mehadia': [('Drobeta', 75), ('Lugoj', 70)],\n",
    "    'Drobeta': [('Craiova', 120), ('Mehadia', 75)],\n",
    "    'Rimnicu Vilcea': [('Craiova', 146), ('Pitesti', 97), ('Sibiu', 80)],\n",
    "    'Fagaras': [('Sibiu', 99), ('Bucharest', 211)],\n",
    "    'Pitesti': [('Rimnicu Vilcea', 97), ('Craiova', 138), ('Bucharest', 101)],\n",
    "    'Craiova': [('Rimnicu Vilcea', 146), ('Drobeta', 120), ('Pitesti', 138)],\n",
    "    'Bucharest': [('Fagaras', 211), ('Pitesti', 101), ('Giurgiu', 90), ('Urzicenzi', 85)],\n",
    "    'Giurgiu': [('Bucharest', 90)],\n",
    "    'Urzicenzi': [('Bucharest', 85), ('Vaslui', 142), ('Hirsova', 98)],\n",
    "    'Vaslui': [('Urzicenzi', 142), ('Iasi', 92)],\n",
    "    'Iasi': [('Vaslui', 92), ('Neamt', 87)],\n",
    "    'Neamt': [('Iasi', 87)],\n",
    "    'Hirsova': [('Urzicenzi', 98), ('Eforie', 86)],\n",
    "    'Eforie': [('Hirsova', 86)],\n",
    "}"
   ]
  },
  {
   "cell_type": "markdown",
   "metadata": {},
   "source": [
    "## 4. Breadth-first Search (BFS)"
   ]
  },
  {
   "cell_type": "code",
   "execution_count": 12,
   "metadata": {},
   "outputs": [],
   "source": [
    "def breadth_first_search(graph_to_search, initial_state, goal_state, verbose=False):\n",
    "    # In frontiers, we store a list because we need to eventually return\n",
    "    # the entire PATH from the initial state to the goal state. So,\n",
    "    # each element in the queue represents a path from the the initial\n",
    "    # state to one frontier node.\n",
    "    frontiers = queue.Queue()\n",
    "    frontiers.put((0, [initial_state])) # a tuple of the cost and the path\n",
    "    visited = set()  # a set\n",
    "\n",
    "    while not frontiers.empty():   # use while loop to iteratively perform search\n",
    "        \n",
    "        cost, path = frontiers.get()  # Get the next element in the frontier queue\n",
    "        node = path[-1]  # Get the last node in this path\n",
    "        \n",
    "        if node in visited:  # check if we have expanded this node, if yes then drop it.\n",
    "            continue\n",
    "            \n",
    "        if verbose:\n",
    "            print(f'Expanding {node}...')\n",
    "            \n",
    "        actions = graph_to_search[node] # get the possible actions\n",
    "        for next_node, next_cost in actions:\n",
    "            if next_node in visited:\n",
    "                continue  # skip this node if it is already expanded.\n",
    "                \n",
    "            new_path = path.copy()\n",
    "            new_path.append(next_node)\n",
    "            new_cost = cost + next_cost\n",
    "            \n",
    "            # check if we reache the goal state or not\n",
    "            if next_node == goal_state:\n",
    "                return new_path, new_cost  # if yes, we can return this path and its cost\n",
    "            else:\n",
    "                frontiers.put((new_cost, new_path))  # add to the frontiers\n",
    "        \n",
    "        # after exploring all actions, we add this node to the visited set\n",
    "        visited.add(node)\n",
    "\n",
    "    return None, None"
   ]
  },
  {
   "cell_type": "code",
   "execution_count": 13,
   "metadata": {},
   "outputs": [
    {
     "name": "stdout",
     "output_type": "stream",
     "text": [
      "The solution is: ['A', 'B', 'C']\n",
      "The cost is: 5\n"
     ]
    }
   ],
   "source": [
    "graph = {\n",
    "    'A': [('B', 1), ('D', 2)],\n",
    "    'B': [('A', 1), ('C', 4), ('D', 2)],\n",
    "    'C': [('B', 4)],\n",
    "    'D': [('A', 2), ('B', 2)]\n",
    "}\n",
    "\n",
    "path, cost = breadth_first_search(graph, 'A', 'C')\n",
    "print('The solution is:', path)\n",
    "print('The cost is:', cost)"
   ]
  },
  {
   "cell_type": "markdown",
   "metadata": {},
   "source": [
    "### *Try it out!*"
   ]
  },
  {
   "cell_type": "code",
   "execution_count": 14,
   "metadata": {
    "scrolled": true
   },
   "outputs": [
    {
     "name": "stdout",
     "output_type": "stream",
     "text": [
      "Expanding Arad...\n",
      "Expanding Zerind...\n",
      "Expanding Sibiu...\n",
      "Expanding Timisoara...\n",
      "Expanding Oradea...\n",
      "Expanding Fagaras...\n",
      "The solution is: ['Arad', 'Sibiu', 'Fagaras', 'Bucharest']\n",
      "The cost is: 450\n"
     ]
    }
   ],
   "source": [
    "# Try it out!\n",
    "# Find a path from Arad to Bucharest in the Romannian map using BFS\n",
    "\n",
    "path, cost = breadth_first_search(romanian_graph, 'Arad', 'Bucharest', verbose=True)\n",
    "print('The solution is:', path)\n",
    "print('The cost is:', cost)"
   ]
  },
  {
   "cell_type": "code",
   "execution_count": 15,
   "metadata": {
    "scrolled": true
   },
   "outputs": [
    {
     "name": "stdout",
     "output_type": "stream",
     "text": [
      "Expanding Arad...\n",
      "Expanding Zerind...\n",
      "Expanding Sibiu...\n",
      "Expanding Timisoara...\n",
      "Expanding Oradea...\n",
      "Expanding Fagaras...\n",
      "Expanding Rimnicu Vilcea...\n",
      "The solution is: ['Arad', 'Sibiu', 'Rimnicu Vilcea', 'Craiova']\n",
      "The cost is: 366\n"
     ]
    }
   ],
   "source": [
    "# Find a path from Arad to Craiova in the Romannian map using BFS\n",
    "\n",
    "path, cost = breadth_first_search(romanian_graph, 'Arad', 'Craiova', verbose=True)\n",
    "print('The solution is:', path)\n",
    "print('The cost is:', cost)"
   ]
  },
  {
   "cell_type": "code",
   "execution_count": 16,
   "metadata": {
    "scrolled": true
   },
   "outputs": [
    {
     "name": "stdout",
     "output_type": "stream",
     "text": [
      "Expanding Arad...\n",
      "Expanding Zerind...\n",
      "Expanding Sibiu...\n",
      "Expanding Timisoara...\n",
      "Expanding Oradea...\n",
      "Expanding Fagaras...\n",
      "Expanding Rimnicu Vilcea...\n",
      "Expanding Lugoj...\n",
      "Expanding Bucharest...\n",
      "Expanding Craiova...\n",
      "Expanding Pitesti...\n",
      "Expanding Mehadia...\n",
      "Expanding Giurgiu...\n",
      "Expanding Urzicenzi...\n",
      "The solution is: ['Arad', 'Sibiu', 'Fagaras', 'Bucharest', 'Urzicenzi', 'Vaslui']\n",
      "The cost is: 677\n"
     ]
    }
   ],
   "source": [
    "# Find a path from Arad to Vaslui in the Romannian map using BFS\n",
    "\n",
    "path, cost = breadth_first_search(romanian_graph, 'Arad', 'Vaslui', verbose=True)\n",
    "print('The solution is:', path)\n",
    "print('The cost is:', cost)"
   ]
  },
  {
   "cell_type": "markdown",
   "metadata": {},
   "source": [
    "## 5. Uniform-Cost Search\n",
    "\n",
    "For uniform-cost search, there are two points that we need to pay attention to:\n",
    "- First, we check if a node is a goal state **when we expand it**. Think about how to do this in the codes.\n",
    "- Second, we select the node from frontiers with the **smallest path cost** from the initial state.\n",
    "\n",
    "A tip: Use priority queue instead of FIFO queue."
   ]
  },
  {
   "cell_type": "markdown",
   "metadata": {},
   "source": [
    "### *Try it out!*\n",
    "Copy the function for bfs, rename it to `uniform_cost_search` and modify it to perform a UCS. Test it with the Romannian map."
   ]
  },
  {
   "cell_type": "code",
   "execution_count": 17,
   "metadata": {},
   "outputs": [],
   "source": [
    "def uniform_cost_search(graph_to_search, initial_state, goal_state, verbose=False):\n",
    "    # In frontiers, we store a list because we need to eventually return\n",
    "    # the entire PATH from the initial state to the goal state. So,\n",
    "    # each element in the queue represents a path from the the initial\n",
    "    # state to one frontier node. We use the first element in each path\n",
    "    # to represent the cost of the path.\n",
    "    frontiers = queue.PriorityQueue()\n",
    "    frontiers.put((0, [initial_state]))\n",
    "    visited = set()\n",
    "\n",
    "    while not frontiers.empty():   # use while loop to iteratively perform search\n",
    "        \n",
    "        cost, path = frontiers.get()  # Get the next element in the frontier queue\n",
    "        node = path[-1]  # Get the last node in this path\n",
    "        \n",
    "        if node in visited:  # check if we have expanded this node, if yes then drop it.\n",
    "            continue\n",
    "        \n",
    "        if node == goal_state:\n",
    "            return path, cost\n",
    "        \n",
    "        if verbose:\n",
    "            print(f'Expanding {node}...')\n",
    "            \n",
    "        actions = graph_to_search[node] # get the possible actions\n",
    "        for next_node, next_cost in actions:\n",
    "            if next_node in visited:\n",
    "                continue  # skip this node if it is already expanded.\n",
    "                \n",
    "            new_path = path.copy()\n",
    "            new_path.append(next_node)\n",
    "            new_cost = cost + next_cost\n",
    "            \n",
    "            frontiers.put((new_cost, new_path))  # add to the frontiers\n",
    "        \n",
    "        # after exploring all actions, we add this node to the visited set\n",
    "        visited.add(node)\n",
    "\n",
    "    return None, None"
   ]
  },
  {
   "cell_type": "code",
   "execution_count": 18,
   "metadata": {
    "scrolled": true
   },
   "outputs": [
    {
     "name": "stdout",
     "output_type": "stream",
     "text": [
      "Expanding Arad...\n",
      "Expanding Zerind...\n",
      "Expanding Timisoara...\n",
      "Expanding Sibiu...\n",
      "Expanding Oradea...\n",
      "Expanding Rimnicu Vilcea...\n",
      "Expanding Lugoj...\n",
      "Expanding Fagaras...\n",
      "Expanding Mehadia...\n",
      "Expanding Pitesti...\n",
      "Expanding Craiova...\n",
      "Expanding Drobeta...\n",
      "The solution is: ['Arad', 'Sibiu', 'Rimnicu Vilcea', 'Pitesti', 'Bucharest']\n",
      "The cost is: 418\n"
     ]
    }
   ],
   "source": [
    "# Try it out!\n",
    "# Find a path from Arad to Bucharest in the Romannian map using BFS\n",
    "\n",
    "path, cost = uniform_cost_search(romanian_graph, 'Arad', 'Bucharest', verbose=True)\n",
    "print('The solution is:', path)\n",
    "print('The cost is:', cost)"
   ]
  },
  {
   "cell_type": "code",
   "execution_count": 19,
   "metadata": {
    "scrolled": true
   },
   "outputs": [
    {
     "name": "stdout",
     "output_type": "stream",
     "text": [
      "Expanding Arad...\n",
      "Expanding Zerind...\n",
      "Expanding Timisoara...\n",
      "Expanding Sibiu...\n",
      "Expanding Oradea...\n",
      "Expanding Rimnicu Vilcea...\n",
      "Expanding Lugoj...\n",
      "Expanding Fagaras...\n",
      "Expanding Mehadia...\n",
      "Expanding Pitesti...\n",
      "Expanding Craiova...\n",
      "Expanding Drobeta...\n",
      "Expanding Bucharest...\n",
      "Expanding Urzicenzi...\n",
      "Expanding Giurgiu...\n",
      "Expanding Hirsova...\n",
      "The solution is: ['Arad', 'Sibiu', 'Rimnicu Vilcea', 'Pitesti', 'Bucharest', 'Urzicenzi', 'Vaslui']\n",
      "The cost is: 645\n"
     ]
    }
   ],
   "source": [
    "# Find a path from Arad to Vaslui in the Romannian map using BFS\n",
    "\n",
    "path, cost = uniform_cost_search(romanian_graph, 'Arad', 'Vaslui', verbose=True)\n",
    "print('The solution is:', path)\n",
    "print('The cost is:', cost)"
   ]
  },
  {
   "cell_type": "markdown",
   "metadata": {},
   "source": [
    "## 5. Depth-first Search\n",
    "\n",
    "DFS is often implemented in tree-like search. Recall that in tree-like search, we do not record the expanded nodes."
   ]
  },
  {
   "cell_type": "markdown",
   "metadata": {},
   "source": [
    "### *Try it out!*\n",
    "Copy and modify the function of BFS to implement DFS. A tip: since DFS could get stuck in infinite loops, you can set a limit to the number of iterations. When the number of iterations is reached, terminate the function."
   ]
  },
  {
   "cell_type": "code",
   "execution_count": 20,
   "metadata": {},
   "outputs": [],
   "source": [
    "def depth_first_search(graph_to_search, initial_state, goal_state, max_iter=1000, verbose=False):\n",
    "    # In frontiers, we store a list because we need to eventually return\n",
    "    # the entire PATH from the initial state to the goal state. So,\n",
    "    # each element in the queue represents a path from the the initial\n",
    "    # state to one frontier node. We use the first element in each path\n",
    "    # to represent the cost of the path.\n",
    "    frontiers = queue.LifoQueue()\n",
    "    frontiers.put((0, [initial_state]))\n",
    "    \n",
    "    iter_counter = 0\n",
    "\n",
    "    while not frontiers.empty():   # use while loop to iteratively perform search\n",
    "        iter_counter += 1\n",
    "        if max_iter > 0 and iter_counter >= max_iter:\n",
    "            break\n",
    "\n",
    "        cost, path = frontiers.get()  # Get the next element in the frontier queue\n",
    "        node = path[-1]  # Get the last node in this path\n",
    "        \n",
    "        if verbose:\n",
    "            print(f'Expanding {node}...')\n",
    "        \n",
    "        actions = graph_to_search[node] # get the possible actions\n",
    "        for next_node, next_cost in actions:\n",
    "            new_path = path.copy()\n",
    "            new_path.append(next_node)\n",
    "            new_cost = cost + next_cost\n",
    "            \n",
    "            # check if we reache the goal state or not\n",
    "            if next_node == goal_state:\n",
    "                return new_path, new_cost  # if yes, we can return this path and its cost\n",
    "            else:\n",
    "                frontiers.put((new_cost, new_path))  # add to the frontiers\n",
    "\n",
    "    return None, None"
   ]
  },
  {
   "cell_type": "code",
   "execution_count": 21,
   "metadata": {
    "scrolled": true
   },
   "outputs": [
    {
     "name": "stdout",
     "output_type": "stream",
     "text": [
      "Expanding Arad...\n",
      "Expanding Timisoara...\n",
      "Expanding Arad...\n",
      "Expanding Timisoara...\n",
      "Expanding Arad...\n",
      "Expanding Timisoara...\n",
      "Expanding Arad...\n",
      "Expanding Timisoara...\n",
      "Expanding Arad...\n",
      "Expanding Timisoara...\n",
      "Expanding Arad...\n",
      "Expanding Timisoara...\n",
      "Expanding Arad...\n",
      "Expanding Timisoara...\n",
      "Expanding Arad...\n",
      "Expanding Timisoara...\n",
      "Expanding Arad...\n",
      "Expanding Timisoara...\n",
      "Expanding Arad...\n",
      "Expanding Timisoara...\n",
      "Expanding Arad...\n",
      "Expanding Timisoara...\n",
      "Expanding Arad...\n",
      "Expanding Timisoara...\n",
      "Expanding Arad...\n",
      "Expanding Timisoara...\n",
      "Expanding Arad...\n",
      "Expanding Timisoara...\n",
      "Expanding Arad...\n",
      "Expanding Timisoara...\n",
      "Expanding Arad...\n",
      "Expanding Timisoara...\n",
      "Expanding Arad...\n",
      "Expanding Timisoara...\n",
      "Expanding Arad...\n",
      "Expanding Timisoara...\n",
      "Expanding Arad...\n",
      "Expanding Timisoara...\n",
      "Expanding Arad...\n",
      "Expanding Timisoara...\n",
      "Expanding Arad...\n",
      "Expanding Timisoara...\n",
      "Expanding Arad...\n",
      "Expanding Timisoara...\n",
      "Expanding Arad...\n",
      "Expanding Timisoara...\n",
      "Expanding Arad...\n",
      "Expanding Timisoara...\n",
      "Expanding Arad...\n",
      "Expanding Timisoara...\n",
      "Expanding Arad...\n",
      "Expanding Timisoara...\n",
      "Expanding Arad...\n",
      "Expanding Timisoara...\n",
      "Expanding Arad...\n",
      "Expanding Timisoara...\n",
      "Expanding Arad...\n",
      "Expanding Timisoara...\n",
      "Expanding Arad...\n",
      "Expanding Timisoara...\n",
      "Expanding Arad...\n",
      "Expanding Timisoara...\n",
      "Expanding Arad...\n",
      "Expanding Timisoara...\n",
      "Expanding Arad...\n",
      "Expanding Timisoara...\n",
      "Expanding Arad...\n",
      "Expanding Timisoara...\n",
      "Expanding Arad...\n",
      "Expanding Timisoara...\n",
      "Expanding Arad...\n",
      "Expanding Timisoara...\n",
      "Expanding Arad...\n",
      "Expanding Timisoara...\n",
      "Expanding Arad...\n",
      "Expanding Timisoara...\n",
      "Expanding Arad...\n",
      "Expanding Timisoara...\n",
      "Expanding Arad...\n",
      "Expanding Timisoara...\n",
      "Expanding Arad...\n",
      "Expanding Timisoara...\n",
      "Expanding Arad...\n",
      "Expanding Timisoara...\n",
      "Expanding Arad...\n",
      "Expanding Timisoara...\n",
      "Expanding Arad...\n",
      "Expanding Timisoara...\n",
      "Expanding Arad...\n",
      "Expanding Timisoara...\n",
      "Expanding Arad...\n",
      "Expanding Timisoara...\n",
      "Expanding Arad...\n",
      "Expanding Timisoara...\n",
      "Expanding Arad...\n",
      "Expanding Timisoara...\n",
      "Expanding Arad...\n",
      "Expanding Timisoara...\n",
      "Expanding Arad...\n",
      "The solution is: None\n",
      "The cost is: None\n"
     ]
    }
   ],
   "source": [
    "# Try it out!\n",
    "# Find a path from Arad to Bucharest in the Romannian map using DFS.\n",
    "# It's ok if it returns None since it could get stuck\n",
    "path, cost = depth_first_search(romanian_graph, 'Arad', 'Bucharest', max_iter=100, verbose=True)\n",
    "print('The solution is:', path)\n",
    "print('The cost is:', cost)"
   ]
  },
  {
   "cell_type": "markdown",
   "metadata": {},
   "source": [
    "Let's try it on a single-way version of the Romannian map, which does not have circles."
   ]
  },
  {
   "cell_type": "markdown",
   "metadata": {},
   "source": [
    "<div>\n",
    "    <img src=\"figs/romanian_graph_single_way.png\" width=\"85%\"/>\n",
    "</div>"
   ]
  },
  {
   "cell_type": "code",
   "execution_count": 22,
   "metadata": {},
   "outputs": [],
   "source": [
    "single_way_romanian_graph = {\n",
    "    'Arad': [('Zerind', 75), ('Sibiu', 140), ('Timisoara', 118)],  # finish the remaining\n",
    "    'Zerind': [('Oradea', 71)],\n",
    "    'Oradea': [('Sibiu', 151)],\n",
    "    'Sibiu': [('Fagaras', 99), ('Rimnicu Vilcea', 80)],\n",
    "    'Timisoara': [('Lugoj', 111)],\n",
    "    'Lugoj': [('Mehadia', 70)],\n",
    "    'Mehadia': [('Drobeta', 75)],\n",
    "    'Drobeta': [('Craiova', 120)],\n",
    "    'Rimnicu Vilcea': [('Craiova', 146), ('Pitesti', 97)],\n",
    "    'Fagaras': [('Bucharest', 211)],\n",
    "    'Pitesti': [('Bucharest', 101)],\n",
    "    'Craiova': [('Pitesti', 138)],\n",
    "    'Bucharest': [('Giurgiu', 90), ('Urzicenzi', 85)],\n",
    "    'Giurgiu': [],\n",
    "    'Urzicenzi': [('Vaslui', 142), ('Hirsova', 98)],\n",
    "    'Vaslui': [('Iasi', 92)],\n",
    "    'Iasi': [('Neamt', 87)],\n",
    "    'Neamt': [],\n",
    "    'Hirsova': [('Eforie', 86)],\n",
    "    'Eforie': [],\n",
    "}"
   ]
  },
  {
   "cell_type": "code",
   "execution_count": 23,
   "metadata": {},
   "outputs": [
    {
     "name": "stdout",
     "output_type": "stream",
     "text": [
      "Expanding Arad...\n",
      "Expanding Timisoara...\n",
      "Expanding Lugoj...\n",
      "Expanding Mehadia...\n",
      "Expanding Drobeta...\n",
      "Expanding Craiova...\n",
      "Expanding Pitesti...\n",
      "The solution is: ['Arad', 'Timisoara', 'Lugoj', 'Mehadia', 'Drobeta', 'Craiova', 'Pitesti', 'Bucharest']\n",
      "The cost is: 733\n"
     ]
    }
   ],
   "source": [
    "# Try it out!\n",
    "# Find a path from Arad to Bucharest in the Romannian map using DFS.\n",
    "path, cost = depth_first_search(single_way_romanian_graph, 'Arad', 'Bucharest', verbose=True)\n",
    "print('The solution is:', path)\n",
    "print('The cost is:', cost)"
   ]
  },
  {
   "cell_type": "markdown",
   "metadata": {},
   "source": [
    "## 6. Greedy Search\n",
    "In greedy search, we need to define a **`heuristic function`** $h(n)$ that tells us the estimated cost of the cheapest path from a particular state to a goal state. In this path-finding problem, we make it simpler by using another `dict` to store the straight-line distance from each city to our goal, Bucharest."
   ]
  },
  {
   "cell_type": "code",
   "execution_count": 24,
   "metadata": {},
   "outputs": [],
   "source": [
    "def sld_to_bucharest(city):\n",
    "    \"\"\"This function returns the straight-line distance from the given city to Bucharest.\"\"\"\n",
    "    sld = {\n",
    "        'Arad': 366,\n",
    "        'Bucharest': 0,\n",
    "        'Craiova': 160,\n",
    "        'Drobeta': 242,\n",
    "        'Eforie': 161,\n",
    "        'Fagaras': 176,\n",
    "        'Giurgiu': 77,\n",
    "        'Hirsova': 151,\n",
    "        'Iasi': 226,\n",
    "        'Lugoj': 244,\n",
    "        'Mehadia': 241,\n",
    "        'Neamt': 234,\n",
    "        'Oradea': 380,\n",
    "        'Pitesti': 100,\n",
    "        'Rimnicu Vilcea': 193,\n",
    "        'Sibiu': 253,\n",
    "        'Timisoara': 329,\n",
    "        'Urzicenzi': 80,\n",
    "        'Vaslui': 199,\n",
    "        'Zerind': 374\n",
    "    }\n",
    "    return sld[city]"
   ]
  },
  {
   "cell_type": "markdown",
   "metadata": {},
   "source": [
    "### *Try it out!*\n",
    "The difference between greedy search and BFS is that we expand the node with the *lowest* $h(n)$. Copy the BFS function, rename it to `greedy_search`, and modify it with the help of the heuristic function we defined above to perform the greedy search."
   ]
  },
  {
   "cell_type": "code",
   "execution_count": 25,
   "metadata": {},
   "outputs": [],
   "source": [
    "def greedy_search(graph_to_search, initial_state, goal_state, heuristics_function, verbose=False):\n",
    "    # We add one more argument, heuristics_function, to allow different heuristic functions to be used\n",
    "    # without changing the implementation source codes.\n",
    "\n",
    "    frontiers = queue.PriorityQueue()\n",
    "    frontiers.put((heuristics_function(initial_state), 0, [initial_state])) # a tuple of the cost and the path\n",
    "    visited = set()  # a set\n",
    "\n",
    "    while not frontiers.empty():   # use while loop to iteratively perform search\n",
    "        \n",
    "        h_value, cost, path = frontiers.get()  # Get the next element in the frontier queue\n",
    "        node = path[-1]  # Get the last node in this path\n",
    "        \n",
    "        if node in visited:  # check if we have expanded this node, if yes then drop it.\n",
    "            continue\n",
    "        \n",
    "        if verbose:\n",
    "            print(f'Expanding {node}...')\n",
    "        \n",
    "        actions = graph_to_search[node] # get the possible actions\n",
    "        for next_node, next_cost in actions:\n",
    "            if next_node in visited:\n",
    "                continue  # skip this node if it is already expanded.\n",
    "                \n",
    "            new_path = path.copy()\n",
    "            new_path.append(next_node)\n",
    "            new_cost = cost + next_cost\n",
    "            \n",
    "            # check if we reache the goal state or not\n",
    "            if next_node == goal_state:\n",
    "                return new_path, new_cost  # if yes, we can return this path and its cost\n",
    "            else:\n",
    "                frontiers.put((heuristics_function(next_node), new_cost, new_path))  # add to the frontiers\n",
    "        \n",
    "        # after exploring all actions, we add this node to the visited set\n",
    "        visited.add(node)\n",
    "\n",
    "    return None, None"
   ]
  },
  {
   "cell_type": "code",
   "execution_count": 26,
   "metadata": {
    "scrolled": true
   },
   "outputs": [
    {
     "name": "stdout",
     "output_type": "stream",
     "text": [
      "Expanding Arad...\n",
      "Expanding Sibiu...\n",
      "Expanding Fagaras...\n",
      "The solution is: ['Arad', 'Sibiu', 'Fagaras', 'Bucharest']\n",
      "The cost is: 450\n"
     ]
    }
   ],
   "source": [
    "# Run this after you implement the algorithm, see if it gives you the correct answer.\n",
    "# Find a path from Arad to Bucharest in the Romannian map using greedy search\n",
    "\n",
    "path, cost = greedy_search(romanian_graph, 'Arad', 'Bucharest', heuristics_function=sld_to_bucharest, verbose=True)\n",
    "print('The solution is:', path)\n",
    "print('The cost is:', cost)"
   ]
  },
  {
   "cell_type": "markdown",
   "metadata": {
    "id": "WfZ9w0h3yRSm"
   },
   "source": [
    "## 8. A* Search\n",
    "For A* search, we compute the sum of the cost of the path $g(n)$ and the heuristic function $h(n)$, and select the node with *lowest* $h(n)+g(n)$ to expand. Besides, similar to the uniform-cost search, we check the goal state when we **expand it**.  Copy the greedy search function, rename it to `a_star_search`, and modify it to perform the A* search. You could make reference to the uniform-cost search codes to check the goal state when expanding the node."
   ]
  },
  {
   "cell_type": "markdown",
   "metadata": {},
   "source": [
    "### *Try it out!*\n",
    "Copy the greedy function, rename it to `a_star_search` and modify it to perform A* search."
   ]
  },
  {
   "cell_type": "code",
   "execution_count": 27,
   "metadata": {},
   "outputs": [],
   "source": [
    "def a_star_search(graph_to_search, initial_state, goal_state, heuristics_function, verbose=False):\n",
    "    # We add one more argument, heuristics_function, to allow different heuristic functions to be used\n",
    "    # without changing the implementation source codes.\n",
    "\n",
    "    frontiers = queue.PriorityQueue()\n",
    "    frontiers.put((heuristics_function(initial_state), 0, [initial_state])) # a tuple of the cost and the path\n",
    "    visited = set()  # a set\n",
    "\n",
    "    while not frontiers.empty():   # use while loop to iteratively perform search\n",
    "        \n",
    "        h_value, cost, path = frontiers.get()  # Get the next element in the frontier queue\n",
    "        node = path[-1]  # Get the last node in this path\n",
    "        \n",
    "        if node in visited:  # check if we have expanded this node, if yes then drop it.\n",
    "            continue\n",
    "            \n",
    "        if node == goal_state:\n",
    "            return path, cost\n",
    "        \n",
    "        if verbose:\n",
    "            print(f'Expanding {node}...')\n",
    "        \n",
    "        actions = graph_to_search[node] # get the possible actions\n",
    "        for next_node, next_cost in actions:\n",
    "            if next_node in visited:\n",
    "                continue  # skip this node if it is already expanded.\n",
    "                \n",
    "            new_path = path.copy()\n",
    "            new_path.append(next_node)\n",
    "            new_cost = cost + next_cost\n",
    "            \n",
    "            f_value = heuristics_function(next_node) + next_cost\n",
    "            frontiers.put((f_value, new_cost, new_path))  # add to the frontiers\n",
    "        \n",
    "        # after exploring all actions, we add this node to the visited set\n",
    "        visited.add(node)\n",
    "\n",
    "    return None, None"
   ]
  },
  {
   "cell_type": "code",
   "execution_count": 28,
   "metadata": {
    "id": "aC7bwiYgH78J"
   },
   "outputs": [
    {
     "name": "stdout",
     "output_type": "stream",
     "text": [
      "Expanding Arad...\n",
      "Expanding Sibiu...\n",
      "Expanding Rimnicu Vilcea...\n",
      "Expanding Pitesti...\n",
      "The solution is: ['Arad', 'Sibiu', 'Rimnicu Vilcea', 'Pitesti', 'Bucharest']\n",
      "The cost is: 418\n"
     ]
    }
   ],
   "source": [
    "# Try it out!\n",
    "# Find a path from Arad to Bucharest in the Romannian map using A* search\n",
    "\n",
    "path, cost = a_star_search(romanian_graph, 'Arad', 'Bucharest', heuristics_function=sld_to_bucharest, verbose=True)\n",
    "print('The solution is:', path)\n",
    "print('The cost is:', cost)"
   ]
  },
  {
   "cell_type": "markdown",
   "metadata": {},
   "source": [
    "### What happens if we have a heuristic function that overestimates the cost?"
   ]
  },
  {
   "cell_type": "markdown",
   "metadata": {},
   "source": [
    "### *Try it out!*\n",
    "Define a heuristic function that returns the doubled straight-line distance from each city to Bucharest. Hint: you do not need to recode the dict again, just make use of the predefined `sld_to_bucharest` function."
   ]
  },
  {
   "cell_type": "code",
   "execution_count": 29,
   "metadata": {},
   "outputs": [],
   "source": [
    "def double_sld(x):\n",
    "    return 2 * sld_to_bucharest(x)"
   ]
  },
  {
   "cell_type": "markdown",
   "metadata": {},
   "source": [
    "Perform A* search using this new heuristic function to find a way from Arad to Bucharest."
   ]
  },
  {
   "cell_type": "code",
   "execution_count": 30,
   "metadata": {},
   "outputs": [
    {
     "name": "stdout",
     "output_type": "stream",
     "text": [
      "Expanding Arad...\n",
      "Expanding Sibiu...\n",
      "Expanding Fagaras...\n",
      "The solution is: ['Arad', 'Sibiu', 'Fagaras', 'Bucharest']\n",
      "The cost is: 450\n"
     ]
    }
   ],
   "source": [
    "path, cost = a_star_search(romanian_graph, 'Arad', 'Bucharest', heuristics_function=double_sld, verbose=True)\n",
    "print('The solution is:', path)\n",
    "print('The cost is:', cost)"
   ]
  },
  {
   "cell_type": "markdown",
   "metadata": {},
   "source": [
    "### Compare the results of using the two different heuristic functions, what are your observations? Try to explain the differences using what we learnt from the lectures."
   ]
  },
  {
   "cell_type": "markdown",
   "metadata": {},
   "source": [
    "The SLD heuristic function is admissible, so A* with this heuristic function finds the cost-optimal solution. However, the doubled SLD heuristic function is not because it could overestimate the costs, so A* with this heuristic function fails to find the optimal solution."
   ]
  },
  {
   "cell_type": "code",
   "execution_count": null,
   "metadata": {},
   "outputs": [],
   "source": []
  }
 ],
 "metadata": {
  "authors": [
   {
    "email": "cskjyin@comp.hkbu.edu.hk",
    "name": "Dr. Kejing Yin"
   }
  ],
  "kernelspec": {
   "display_name": "Python 3 (ipykernel)",
   "language": "python",
   "name": "python3"
  },
  "language_info": {
   "codemirror_mode": {
    "name": "ipython",
    "version": 3
   },
   "file_extension": ".py",
   "mimetype": "text/x-python",
   "name": "python",
   "nbconvert_exporter": "python",
   "pygments_lexer": "ipython3",
   "version": "3.9.15"
  },
  "title": "COMP7015 Lab 1: Solving Problems using Search",
  "vscode": {
   "interpreter": {
    "hash": "f90bbf7985f2e386e054d57f9f24ffeb163cbc33ce80b1a859df2b0f2c9d1e26"
   }
  }
 },
 "nbformat": 4,
 "nbformat_minor": 1
}
