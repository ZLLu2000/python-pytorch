{
 "cells": [
  {
   "cell_type": "markdown",
   "id": "f8bc0972",
   "metadata": {
    "id": "f8bc0972"
   },
   "source": [
    "1. Given a positive integer 'n', print an inverted pyramid pattern using asterisks (*). The number of asterisks in each row decreases by 1 as we move down the pyramid. You need to print the results when n = 5 and n = 20. (15 marks)\n",
    "\n",
    "Example: Input: n = 5; Output:   \n",
    "<pre>\n",
    "*****\n",
    " ****\n",
    "  ***\n",
    "   **\n",
    "    *\n",
    "</pre>\n"
   ]
  },
  {
   "cell_type": "code",
   "execution_count": 1,
   "id": "6ec202b4",
   "metadata": {
    "id": "6ec202b4"
   },
   "outputs": [
    {
     "name": "stdout",
     "output_type": "stream",
     "text": [
      "Enter a positive integer: 5\n",
      "*****\n",
      " ****\n",
      "  ***\n",
      "   **\n",
      "    *\n"
     ]
    }
   ],
   "source": [
    "def inverted_pyramid(n):\n",
    "    # Please write your answer here. You should print the answer in the function. If you do not print answer inside function, we will deduct some scores\n",
    "    for i in range(n, 0, -1):\n",
    "        print(\" \" * (n - i) + \"*\" * i)\n",
    "\n",
    "n = int(input(\"Enter a positive integer: \"))\n",
    "inverted_pyramid(n)\n"
   ]
  },
  {
   "cell_type": "markdown",
   "id": "b85c8e31",
   "metadata": {
    "id": "b85c8e31"
   },
   "source": [
    "2. Given a string, return a bool value (True or Flase) to determine whether the string reads the same forwards and backwards. (15 marks)\n",
    "\n",
    "\n",
    "    Example 1: Input: word = \"level\"; Output: True.\n",
    "    \n",
    "    Example 2: Input: word = \"hello\"; Output: Flase."
   ]
  },
  {
   "cell_type": "code",
   "execution_count": 2,
   "id": "3753f81d",
   "metadata": {
    "id": "3753f81d"
   },
   "outputs": [
    {
     "name": "stdout",
     "output_type": "stream",
     "text": [
      "Enter a string: level\n",
      "True\n"
     ]
    }
   ],
   "source": [
    "def is_palindrome(word):    \n",
    "# Test code\n",
    "    return word == word[::-1]\n",
    "\n",
    "input_word = input(\"Enter a string: \")\n",
    "print(is_palindrome(input_word))"
   ]
  },
  {
   "cell_type": "markdown",
   "id": "0f3c473e",
   "metadata": {
    "id": "0f3c473e"
   },
   "source": [
    "3. Given an a binary string (containing only 0 and 1), return the corresponding decimal integer. (15 marks)\n",
    "    \n",
    "    Example: Input: \"1010\"; Output: 10."
   ]
  },
  {
   "cell_type": "code",
   "execution_count": 3,
   "id": "16105d98",
   "metadata": {
    "id": "16105d98"
   },
   "outputs": [
    {
     "name": "stdout",
     "output_type": "stream",
     "text": [
      "Enter a binary string: 1010\n",
      "10\n"
     ]
    }
   ],
   "source": [
    "def binary_to_decimal(binary_string):\n",
    "    # Please write your answer here.\n",
    "    decimal = 0\n",
    "    power = len(binary_string) - 1\n",
    "    \n",
    "    for digit in binary_string:\n",
    "        if digit == '1':\n",
    "            decimal += 2 ** power\n",
    "        power -= 1\n",
    "    \n",
    "    return decimal\n",
    "\n",
    "binary_string = input(\"Enter a binary string: \")\n",
    "print(binary_to_decimal(binary_string))"
   ]
  },
  {
   "cell_type": "markdown",
   "id": "c7b926d4",
   "metadata": {
    "id": "c7b926d4"
   },
   "source": [
    "4. Given an integer list l and an integer k as input, return the k-th largest element in the list l. (15 marks)\n",
    "\n",
    "    Example: Input: l = [3, 1, 5, 2, 4], k = 2; Output: 4."
   ]
  },
  {
   "cell_type": "code",
   "execution_count": 4,
   "id": "44e34565",
   "metadata": {
    "id": "44e34565"
   },
   "outputs": [
    {
     "name": "stdout",
     "output_type": "stream",
     "text": [
      "4\n",
      "34\n"
     ]
    }
   ],
   "source": [
    "def find_kth_largest(l, k):\n",
    "    # Please write your answer here.\n",
    "    sorted_list = sorted(l, reverse=True)\n",
    "    return sorted_list[k-1]\n",
    "\n",
    "numbers = [3, 1, 5, 2, 4]\n",
    "kth_largest = find_kth_largest(numbers, 2)\n",
    "print(kth_largest)\n",
    "\n",
    "numbers = [56, 34, 72, 89, 13, 47, 95, 61, 29, 86, 2, 97, 18, 42, 77, 10, 51, 93, 38, 80]\n",
    "kth_largest = find_kth_largest(numbers, 15)\n",
    "print(kth_largest)"
   ]
  },
  {
   "cell_type": "markdown",
   "id": "8fd9c5c6",
   "metadata": {
    "id": "8fd9c5c6"
   },
   "source": [
    "5. Given two binary strings bin1 and bin2, return the result of their binary addition. (15 marks)\n",
    "\n",
    "    Example 1: Input: a = \"110\", b = \"101\"; Output: \"1011\"\n",
    "    \n",
    "    Example 2: Input: a = \"101\", b = \"10\"; Output: \"111\""
   ]
  },
  {
   "cell_type": "code",
   "execution_count": 5,
   "id": "d66821d4",
   "metadata": {
    "id": "d66821d4"
   },
   "outputs": [
    {
     "name": "stdout",
     "output_type": "stream",
     "text": [
      "1011\n",
      "111\n",
      "1100011000\n"
     ]
    }
   ],
   "source": [
    "def addBinary(a, b):\n",
    "    # Please write your answer here.\n",
    "    int1 = int(a, 2)\n",
    "    int2 = int(b, 2)\n",
    "    result = bin(int1 + int2)[2:]\n",
    "\n",
    "    return result\n",
    "\n",
    "# Test code\n",
    "print(addBinary(\"110\", \"101\"))\n",
    "print(addBinary(\"101\", \"10\"))\n",
    "print(addBinary(\"101001100\", \"111001100\"))"
   ]
  },
  {
   "cell_type": "markdown",
   "id": "989c30aa",
   "metadata": {
    "id": "989c30aa"
   },
   "source": [
    "6. Given a string s, return the number of segments in the string seperated by space character. (15 marks)\n",
    "\n",
    "    Example 1: Input: s = \"COMP7035\"; Output: 1\n",
    "    \n",
    "    Example 2: Input: s = \"&nbsp;&nbsp;I like Python very much.&nbsp;&nbsp;&nbsp;&nbsp;\"; Output: 5\n",
    "    \n",
    "    Example 2: Input: s = \"Hello,&nbsp;&nbsp;&nbsp;world!\"; Output: 2"
   ]
  },
  {
   "cell_type": "code",
   "execution_count": 6,
   "id": "14b72f19",
   "metadata": {
    "id": "14b72f19",
    "outputId": "482691a1-f87d-48c9-a7dd-8d1438dc35d3"
   },
   "outputs": [
    {
     "name": "stdout",
     "output_type": "stream",
     "text": [
      "1\n",
      "5\n",
      "2\n"
     ]
    }
   ],
   "source": [
    "def count_segments(s):\n",
    "    # Please write your answer here.\n",
    "    s = s.strip()\n",
    "    segments = s.split()\n",
    "    return len(segments)\n",
    "\n",
    "# Test code\n",
    "print(count_segments(\"COMP7035\"))\n",
    "print(count_segments(\"  I like Python very much.    \"))\n",
    "print(count_segments(\"Hello,   world!\"))"
   ]
  },
  {
   "cell_type": "markdown",
   "id": "c3a19d51",
   "metadata": {
    "id": "c3a19d51"
   },
   "source": [
    "7. Given a non-empty list of integers lst, return the element with the highest frequency in the list. If there are multiple elements with the same frequency, return any one of them. (15 marks)\n",
    "\n",
    "    Example: Input: lst = [1, 2, 3, 2, 1, 3, 4, 2, 2]; Output: 2"
   ]
  },
  {
   "cell_type": "code",
   "execution_count": 7,
   "id": "4a8f6dc4",
   "metadata": {
    "id": "4a8f6dc4",
    "outputId": "b2dc3efb-dd3e-4a3f-f94f-404dcac50942"
   },
   "outputs": [
    {
     "name": "stdout",
     "output_type": "stream",
     "text": [
      "2\n",
      "125\n"
     ]
    }
   ],
   "source": [
    "from collections import Counter\n",
    "def find_most_frequent_element(lst):\n",
    "    # Please write your answer here.\n",
    "    freq_counter = Counter(lst)\n",
    "\n",
    "    # Find the element with the highest frequency\n",
    "    highest_freq = max(freq_counter.values())\n",
    "    highest_freq_elements = [num for num, freq in freq_counter.items() if freq == highest_freq]\n",
    "\n",
    "    # Return any one of the elements with the highest frequency\n",
    "    return highest_freq_elements[0]\n",
    "\n",
    "# Test code\n",
    "print(find_most_frequent_element([1, 2, 3, 2, 1, 3, 4, 2, 2]))\n",
    "print(find_most_frequent_element([358, 22, 333, 22, 361, 125, 45, 224, 239, 333, 453, 358, 12, 125, 12, 125]))"
   ]
  },
  {
   "cell_type": "markdown",
   "id": "7d5485ba",
   "metadata": {
    "id": "7d5485ba"
   },
   "source": [
    "8. Given a integer n, return the n-th number in the Fibonacci sequence. The Fibonacci sequence is a series of numbers where each number is the sum of the two preceding ones. The first few numbers in the sequence are: 0, 1, 1, 2, 3, 5, 8, 13, 21, ... (15 marks)\n",
    "\n",
    "    Example 1: Input: n = 1; Output: 0\n",
    "    \n",
    "    Example 2: Input: n = 5; Output: 3"
   ]
  },
  {
   "cell_type": "code",
   "execution_count": 8,
   "id": "aab997a2",
   "metadata": {
    "id": "aab997a2",
    "outputId": "2f85f93e-4199-4fe1-ae9f-c546976f46a4"
   },
   "outputs": [
    {
     "name": "stdout",
     "output_type": "stream",
     "text": [
      "0\n",
      "3\n",
      "34\n",
      "4181\n"
     ]
    }
   ],
   "source": [
    "def calculate_fibonacci(n):\n",
    "    # Please write your answer here.\n",
    "    if n <= 0:\n",
    "        return \"Invalid input. n should be a positive integer.\"\n",
    "    elif n == 1:\n",
    "        return 0\n",
    "    elif n == 2:\n",
    "        return 1\n",
    "    else:\n",
    "        return calculate_fibonacci(n-1) + calculate_fibonacci(n-2)\n",
    "\n",
    "\n",
    "# Test code\n",
    "print(calculate_fibonacci(1))\n",
    "print(calculate_fibonacci(5))\n",
    "print(calculate_fibonacci(10))\n",
    "print(calculate_fibonacci(20))"
   ]
  },
  {
   "cell_type": "markdown",
   "id": "ff9d9547",
   "metadata": {
    "id": "ff9d9547"
   },
   "source": [
    "9. Given a positive integer n, return a bool value (True or False) to determine whether it is a prime number. A prime number is a number greater than 1 that is only divisible by 1 and itself. If n is a prime number, the function should return True; otherwise, it should return False. (15 marks)\n",
    "\n",
    "    Example 1: Input: n = 1; Output: False\n",
    "    \n",
    "    Example 2: Input: n = 2; Output: True\n",
    "    \n",
    "    Example 3: Input: n = 19; Output: True"
   ]
  },
  {
   "cell_type": "code",
   "execution_count": 9,
   "id": "d4ded451",
   "metadata": {
    "id": "d4ded451"
   },
   "outputs": [
    {
     "name": "stdout",
     "output_type": "stream",
     "text": [
      "True\n",
      "False\n",
      "True\n",
      "True\n",
      "False\n"
     ]
    }
   ],
   "source": [
    "def is_prime(n):\n",
    "    # Please write your answer here.\n",
    "    if n <= 1:\n",
    "        return False\n",
    "    for i in range(2, int(n**0.5) + 1):\n",
    "        if n % i == 0:\n",
    "            return False\n",
    "    return True\n",
    "# Test code\n",
    "print(is_prime(2))\n",
    "print(is_prime(10))\n",
    "print(is_prime(17))\n",
    "print(is_prime(65537))\n",
    "print(is_prime(4294967297))"
   ]
  },
  {
   "cell_type": "markdown",
   "id": "38226ecd",
   "metadata": {
    "id": "38226ecd"
   },
   "source": [
    "10. Given a two-dimensional array arr, return the row index with the maximum sum in the array. Use the NumPy library to handle array operations. (15 marks)\n",
    "\n",
    "    Example 1: Input: arr = np.array([[1, 2, 3], [7, 8, 9], [4, 5, 6]]); Output: 1\n",
    "    \n",
    "    Example 2: Input: arr = np.array([[7, 3, 9, 1], [2, 8, 4, 6], [5, 0, 2, 11], [12, 6, 9, 3]]); Output: 3"
   ]
  },
  {
   "cell_type": "code",
   "execution_count": 10,
   "id": "662ec717",
   "metadata": {
    "id": "662ec717"
   },
   "outputs": [
    {
     "name": "stdout",
     "output_type": "stream",
     "text": [
      "1\n",
      "3\n"
     ]
    }
   ],
   "source": [
    "import numpy as np\n",
    "\n",
    "def get_row_with_max_sum(arr):\n",
    "    # Please write your functions here.\n",
    "    if len(arr) == 0:\n",
    "        return -1\n",
    "    row_sums = np.sum(arr, axis=1)\n",
    "    max_sum_index = np.argmax(row_sums)\n",
    "    return max_sum_index\n",
    "\n",
    "# Please define test code below\n",
    "print(get_row_with_max_sum([[1, 2, 3], [7, 8, 9], [4, 5, 6]]))\n",
    "print(get_row_with_max_sum([[7, 3, 9, 1], [2, 8, 4, 6], [5, 0, 2, 11], [12, 6, 9, 3]]))"
   ]
  },
  {
   "cell_type": "markdown",
   "id": "371e6bd3",
   "metadata": {
    "id": "371e6bd3"
   },
   "source": [
    "11. Given a two-dimensional array mat with a shape of (m, n) and a positive integer k, return a two-dimensional array with a shape of (k, n), where each column contains the top k largest values from the corresponding column. The order of elements in each column in the returned result is not restricted. Use the NumPy library to handle array operations. (15 marks)\n",
    "\n",
    "    Example: Input: mat = np.array([[2, 4, 7], [1, 5, 9], [3, 6, 8]]); Output: np.array([[2 5 8], [3 6 9]]) or np.array([[3 6 9], [2 5 8]]) or np.array([[2 5 9], [3 6 8]]) ..."
   ]
  },
  {
   "cell_type": "code",
   "execution_count": 11,
   "id": "ab9c4e5b",
   "metadata": {
    "id": "ab9c4e5b"
   },
   "outputs": [
    {
     "data": {
      "text/plain": [
       "array([[2, 5, 8],\n",
       "       [3, 6, 9]])"
      ]
     },
     "execution_count": 11,
     "metadata": {},
     "output_type": "execute_result"
    }
   ],
   "source": [
    "import numpy as np\n",
    "\n",
    "def top_k_largest(mat, k):\n",
    "    top_k = np.partition(mat, -k, axis=0)[-k:]\n",
    "    return top_k\n",
    "\n",
    "mat = np.array([[2, 4, 7], [1, 5, 9], [3, 6, 8]])\n",
    "top_k_largest(mat,2)"
   ]
  }
 ],
 "metadata": {
  "colab": {
   "provenance": []
  },
  "kernelspec": {
   "display_name": "Python 3 (ipykernel)",
   "language": "python",
   "name": "python3"
  },
  "language_info": {
   "codemirror_mode": {
    "name": "ipython",
    "version": 3
   },
   "file_extension": ".py",
   "mimetype": "text/x-python",
   "name": "python",
   "nbconvert_exporter": "python",
   "pygments_lexer": "ipython3",
   "version": "3.11.4"
  }
 },
 "nbformat": 4,
 "nbformat_minor": 5
}
