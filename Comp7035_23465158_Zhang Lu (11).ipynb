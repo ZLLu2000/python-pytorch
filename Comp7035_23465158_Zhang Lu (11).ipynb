{
 "cells": [
  {
   "cell_type": "markdown",
   "id": "40fbb2aa-8fd6-4c24-8828-fa98e670254f",
   "metadata": {},
   "source": [
    "# Comp7035 Lab 8 \n"
   ]
  },
  {
   "cell_type": "markdown",
   "id": "0d934f93-71e4-466c-b88d-9946ce5e1c94",
   "metadata": {},
   "source": [
    "# Exercise 2: Financial data processing"
   ]
  },
  {
   "cell_type": "code",
   "execution_count": 2,
   "id": "8fcc8041-ec3f-476e-8f35-19ade880c7ff",
   "metadata": {
    "tags": []
   },
   "outputs": [
    {
     "name": "stdout",
     "output_type": "stream",
     "text": [
      "Requirement already satisfied: yfinance in d:\\anaconda\\lib\\site-packages (0.2.31)\n",
      "Requirement already satisfied: pandas>=1.3.0 in d:\\anaconda\\lib\\site-packages (from yfinance) (1.5.3)\n",
      "Requirement already satisfied: numpy>=1.16.5 in d:\\anaconda\\lib\\site-packages (from yfinance) (1.24.3)\n",
      "Requirement already satisfied: requests>=2.31 in d:\\anaconda\\lib\\site-packages (from yfinance) (2.31.0)\n",
      "Requirement already satisfied: multitasking>=0.0.7 in d:\\anaconda\\lib\\site-packages (from yfinance) (0.0.11)\n",
      "Requirement already satisfied: lxml>=4.9.1 in d:\\anaconda\\lib\\site-packages (from yfinance) (4.9.2)\n",
      "Requirement already satisfied: appdirs>=1.4.4 in d:\\anaconda\\lib\\site-packages (from yfinance) (1.4.4)\n",
      "Requirement already satisfied: pytz>=2022.5 in d:\\anaconda\\lib\\site-packages (from yfinance) (2022.7)\n",
      "Requirement already satisfied: frozendict>=2.3.4 in d:\\anaconda\\lib\\site-packages (from yfinance) (2.3.8)\n",
      "Requirement already satisfied: peewee>=3.16.2 in d:\\anaconda\\lib\\site-packages (from yfinance) (3.17.0)\n",
      "Requirement already satisfied: beautifulsoup4>=4.11.1 in d:\\anaconda\\lib\\site-packages (from yfinance) (4.12.2)\n",
      "Requirement already satisfied: html5lib>=1.1 in d:\\anaconda\\lib\\site-packages (from yfinance) (1.1)\n",
      "Requirement already satisfied: soupsieve>1.2 in d:\\anaconda\\lib\\site-packages (from beautifulsoup4>=4.11.1->yfinance) (2.4)\n",
      "Requirement already satisfied: six>=1.9 in c:\\users\\27236\\appdata\\roaming\\python\\python311\\site-packages (from html5lib>=1.1->yfinance) (1.16.0)\n",
      "Requirement already satisfied: webencodings in d:\\anaconda\\lib\\site-packages (from html5lib>=1.1->yfinance) (0.5.1)\n",
      "Requirement already satisfied: python-dateutil>=2.8.1 in c:\\users\\27236\\appdata\\roaming\\python\\python311\\site-packages (from pandas>=1.3.0->yfinance) (2.8.2)\n",
      "Requirement already satisfied: charset-normalizer<4,>=2 in d:\\anaconda\\lib\\site-packages (from requests>=2.31->yfinance) (2.0.4)\n",
      "Requirement already satisfied: idna<4,>=2.5 in d:\\anaconda\\lib\\site-packages (from requests>=2.31->yfinance) (3.4)\n",
      "Requirement already satisfied: urllib3<3,>=1.21.1 in d:\\anaconda\\lib\\site-packages (from requests>=2.31->yfinance) (1.26.16)\n",
      "Requirement already satisfied: certifi>=2017.4.17 in d:\\anaconda\\lib\\site-packages (from requests>=2.31->yfinance) (2023.7.22)\n",
      "Note: you may need to restart the kernel to use updated packages.\n"
     ]
    }
   ],
   "source": [
    "pip install yfinance --upgrade --no-cache-dir"
   ]
  },
  {
   "cell_type": "code",
   "execution_count": 3,
   "id": "1c7a811d-9c3b-4dde-a34d-bbb9da9a75d3",
   "metadata": {
    "tags": []
   },
   "outputs": [],
   "source": [
    "import yfinance as yf\n",
    "import matplotlib.pyplot as plt\n",
    "import pandas as pd"
   ]
  },
  {
   "cell_type": "markdown",
   "id": "94894f05-ce01-4c39-acca-ab014c36b410",
   "metadata": {
    "tags": []
   },
   "source": [
    "### Finish the codes to do the financial data analysis on the 'Google' stock"
   ]
  },
  {
   "cell_type": "code",
   "execution_count": 4,
   "id": "42cc4ed3-de8e-4d7d-81b2-42168fb7f6cf",
   "metadata": {
    "tags": []
   },
   "outputs": [
    {
     "name": "stdout",
     "output_type": "stream",
     "text": [
      "                                 Open        High         Low       Close  \\\n",
      "Date                                                                        \n",
      "2023-10-03 00:00:00-04:00  134.929993  135.240005  132.815002  133.300003   \n",
      "2023-10-04 00:00:00-04:00  133.660004  136.570007  133.429993  136.270004   \n",
      "2023-10-05 00:00:00-04:00  136.130005  136.500000  134.455002  135.990005   \n",
      "2023-10-06 00:00:00-04:00  134.940002  139.186005  134.940002  138.729996   \n",
      "2023-10-09 00:00:00-04:00  137.990005  139.970001  136.699997  139.500000   \n",
      "\n",
      "                             Volume  Dividends  Stock Splits  \n",
      "Date                                                          \n",
      "2023-10-03 00:00:00-04:00  19628700        0.0           0.0  \n",
      "2023-10-04 00:00:00-04:00  22848000        0.0           0.0  \n",
      "2023-10-05 00:00:00-04:00  15922900        0.0           0.0  \n",
      "2023-10-06 00:00:00-04:00  20819300        0.0           0.0  \n",
      "2023-10-09 00:00:00-04:00  16599100        0.0           0.0  \n"
     ]
    }
   ],
   "source": [
    "goog = yf.Ticker('goog')\n",
    "data = goog.history()\n",
    "\n",
    "# Write your code to output the first 5 data samples with all the columns\n",
    "print(data[:5])"
   ]
  },
  {
   "cell_type": "markdown",
   "id": "fb03ad12-2391-4aa1-b54f-d11ac088c06c",
   "metadata": {},
   "source": [
    "### Task 1: collecting the data from the Google stock with the following information\n",
    "#### 1. The peroid must be within the last 30 days\n",
    "#### 2. Only seven days of 1m granularity are allowed per request"
   ]
  },
  {
   "cell_type": "code",
   "execution_count": 5,
   "id": "cfb98299-dc7d-463b-a925-457dde545170",
   "metadata": {
    "tags": []
   },
   "outputs": [
    {
     "name": "stdout",
     "output_type": "stream",
     "text": [
      "\r",
      "[*********************100%%**********************]  1 of 1 completed"
     ]
    },
    {
     "name": "stderr",
     "output_type": "stream",
     "text": [
      "\n",
      "1 Failed download:\n",
      "['GOOG']: Exception('%ticker%: 1m data not available for startTime=1696392000 and endTime=1696910400. The requested range must be within the last 30 days.')\n"
     ]
    },
    {
     "name": "stdout",
     "output_type": "stream",
     "text": [
      "\n",
      "[*********************100%%**********************]  1 of 1 completed\n"
     ]
    },
    {
     "name": "stderr",
     "output_type": "stream",
     "text": [
      "C:\\Users\\27236\\AppData\\Local\\Temp\\ipykernel_19260\\494049638.py:12: FutureWarning: The frame.append method is deprecated and will be removed from pandas in a future version. Use pandas.concat instead.\n",
      "  data = data.append(stock_data)\n",
      "C:\\Users\\27236\\AppData\\Local\\Temp\\ipykernel_19260\\494049638.py:12: FutureWarning: The frame.append method is deprecated and will be removed from pandas in a future version. Use pandas.concat instead.\n",
      "  data = data.append(stock_data)\n"
     ]
    },
    {
     "name": "stdout",
     "output_type": "stream",
     "text": [
      "[*********************100%%**********************]  1 of 1 completed\n",
      "[*********************100%%**********************]  1 of 1 completed"
     ]
    },
    {
     "name": "stderr",
     "output_type": "stream",
     "text": [
      "C:\\Users\\27236\\AppData\\Local\\Temp\\ipykernel_19260\\494049638.py:12: FutureWarning: The frame.append method is deprecated and will be removed from pandas in a future version. Use pandas.concat instead.\n",
      "  data = data.append(stock_data)\n"
     ]
    },
    {
     "name": "stdout",
     "output_type": "stream",
     "text": [
      "\n",
      "\r",
      "[*********************100%%**********************]  1 of 1 completed"
     ]
    },
    {
     "name": "stderr",
     "output_type": "stream",
     "text": [
      "C:\\Users\\27236\\AppData\\Local\\Temp\\ipykernel_19260\\494049638.py:12: FutureWarning: The frame.append method is deprecated and will be removed from pandas in a future version. Use pandas.concat instead.\n",
      "  data = data.append(stock_data)\n"
     ]
    },
    {
     "name": "stdout",
     "output_type": "stream",
     "text": [
      "\n",
      "                                 Open        High         Low       Close  \\\n",
      "2023-10-11 09:30:00-04:00  139.850006  140.410004  139.839996  140.410004   \n",
      "2023-10-11 09:31:00-04:00  140.412003  140.470001  140.229996  140.429993   \n",
      "2023-10-11 09:32:00-04:00  140.419998  140.580002  140.339996  140.440002   \n",
      "2023-10-11 09:33:00-04:00  140.429993  140.710007  140.380005  140.543594   \n",
      "2023-10-11 09:34:00-04:00  140.520004  140.664993  140.330002  140.649994   \n",
      "...                               ...         ...         ...         ...   \n",
      "2023-11-02 15:55:00-04:00  128.649994  128.651001  128.520004  128.524994   \n",
      "2023-11-02 15:56:00-04:00  128.524994  128.570007  128.500000  128.509995   \n",
      "2023-11-02 15:57:00-04:00  128.520004  128.529999  128.460007  128.504105   \n",
      "2023-11-02 15:58:00-04:00  128.509995  128.509995  128.443802  128.475006   \n",
      "2023-11-02 15:59:00-04:00  128.475006  128.630005  128.460007  128.600006   \n",
      "\n",
      "                            Adj Close    Volume  \n",
      "2023-10-11 09:30:00-04:00  140.410004  355015.0  \n",
      "2023-10-11 09:31:00-04:00  140.429993  106561.0  \n",
      "2023-10-11 09:32:00-04:00  140.440002  110771.0  \n",
      "2023-10-11 09:33:00-04:00  140.543594  115057.0  \n",
      "2023-10-11 09:34:00-04:00  140.649994   93381.0  \n",
      "...                               ...       ...  \n",
      "2023-11-02 15:55:00-04:00  128.524994   95185.0  \n",
      "2023-11-02 15:56:00-04:00  128.509995  114508.0  \n",
      "2023-11-02 15:57:00-04:00  128.504105  126504.0  \n",
      "2023-11-02 15:58:00-04:00  128.475006  161118.0  \n",
      "2023-11-02 15:59:00-04:00  128.600006  382256.0  \n",
      "\n",
      "[5459 rows x 6 columns]\n"
     ]
    },
    {
     "name": "stderr",
     "output_type": "stream",
     "text": [
      "C:\\Users\\27236\\AppData\\Local\\Temp\\ipykernel_19260\\494049638.py:12: FutureWarning: The frame.append method is deprecated and will be removed from pandas in a future version. Use pandas.concat instead.\n",
      "  data = data.append(stock_data)\n"
     ]
    }
   ],
   "source": [
    "import datetime\n",
    "\n",
    "end_date = datetime.date.today()\n",
    "start_date = end_date - datetime.timedelta(days=30)\n",
    "ticker = \"goog\"\n",
    "interval = \"1m\"\n",
    "data = pd.DataFrame()\n",
    "current_date = start_date\n",
    "while current_date <= end_date:\n",
    "    period_end_date = current_date + datetime.timedelta(days=6)\n",
    "    stock_data = yf.download(ticker, start=current_date, end=period_end_date, interval=interval)\n",
    "    data = data.append(stock_data)\n",
    "    current_date = period_end_date + datetime.timedelta(days=1)\n",
    "\n",
    "print(data)"
   ]
  },
  {
   "cell_type": "markdown",
   "id": "e01e1f03-974d-4650-9663-086080e06e35",
   "metadata": {},
   "source": [
    "### Return the statistics (count, mean, std, min...) for the Google stock"
   ]
  },
  {
   "cell_type": "code",
   "execution_count": 6,
   "id": "af70b209-9bd8-47bb-b4d7-7dfb41daa70f",
   "metadata": {
    "tags": []
   },
   "outputs": [
    {
     "name": "stdout",
     "output_type": "stream",
     "text": [
      "              Open         High          Low        Close    Adj Close  \\\n",
      "count  5459.000000  5459.000000  5459.000000  5459.000000  5459.000000   \n",
      "mean    133.729978   133.798668   133.658798   133.728293   133.728293   \n",
      "std       7.072884     7.067257     7.077362     7.072330     7.072330   \n",
      "min     121.595001   121.680000   121.459999   121.595001   121.595001   \n",
      "25%     126.312500   126.389999   126.250500   126.313499   126.313499   \n",
      "50%     137.729996   137.789993   137.669296   137.729904   137.729904   \n",
      "75%     140.184998   140.259995   140.110001   140.179993   140.179993   \n",
      "max     142.289993   142.380005   142.190002   142.299896   142.299896   \n",
      "\n",
      "             Volume  \n",
      "count  5.459000e+03  \n",
      "mean   5.822734e+04  \n",
      "std    8.731930e+04  \n",
      "min    0.000000e+00  \n",
      "25%    2.601000e+04  \n",
      "50%    3.868300e+04  \n",
      "75%    6.247550e+04  \n",
      "max    3.208971e+06  \n"
     ]
    }
   ],
   "source": [
    "# Write your codes here\n",
    "statistics = data.describe()\n",
    "print(statistics)"
   ]
  }
 ],
 "metadata": {
  "kernelspec": {
   "display_name": "Python 3 (ipykernel)",
   "language": "python",
   "name": "python3"
  },
  "language_info": {
   "codemirror_mode": {
    "name": "ipython",
    "version": 3
   },
   "file_extension": ".py",
   "mimetype": "text/x-python",
   "name": "python",
   "nbconvert_exporter": "python",
   "pygments_lexer": "ipython3",
   "version": "3.11.4"
  }
 },
 "nbformat": 4,
 "nbformat_minor": 5
}
