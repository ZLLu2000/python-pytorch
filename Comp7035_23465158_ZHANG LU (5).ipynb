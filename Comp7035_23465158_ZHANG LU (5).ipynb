{
  "cells": [
    {
      "cell_type": "markdown",
      "metadata": {
        "id": "U7eis3REbE5E"
      },
      "source": [
        "## COMP7035 FIRST SMALL HOMEWORK\n",
        "### ZHANG LU (LU)  DAAI  23465158 \n",
        "\n",
        "\n"
      ]
    },
    {
      "cell_type": "markdown",
      "metadata": {
        "id": "ZR1TX6Z60A_Z"
      },
      "source": [
        "## Exercise-0"
      ]
    },
    {
      "cell_type": "markdown",
      "metadata": {
        "id": "nksB_UiXbE5N",
        "nteract": {
          "transient": {
            "deleting": false
          }
        }
      },
      "source": [
        "**Based on Example-1 and Example-2, please write a code using if else to judge whether you fail or pass the examination.**"
      ]
    },
    {
      "cell_type": "code",
      "execution_count": 10,
      "metadata": {},
      "outputs": [
        {
          "name": "stdout",
          "output_type": "stream",
          "text": [
            "52.1\n",
            "You pass😁\n",
            "Thanks for your hard work\n"
          ]
        }
      ],
      "source": [
        "## When assignments = 70 test = 60.5 exam = 30\n",
        "assignments = 70    # integer number\n",
        "test = 60.5      # float number\n",
        "exam = 30\n",
        "overall = assignments * 0.4 + test * 0.2 + exam * 0.4\n",
        "print (overall)\n",
        "if overall >=35 and exam >=30:\n",
        "    print(\"You pass😁\")\n",
        "else:\n",
        "    print(\"You fail😭\")\n",
        "print(\"Thanks for your hard work\")"
      ]
    },
    {
      "cell_type": "code",
      "execution_count": 12,
      "metadata": {
        "id": "vfTd79LxbE5N",
        "jupyter": {
          "outputs_hidden": false
        },
        "nteract": {
          "transient": {
            "deleting": false
          }
        },
        "tags": []
      },
      "outputs": [
        {
          "name": "stdout",
          "output_type": "stream",
          "text": [
            "50.1\n",
            "You fail😭\n",
            "Thanks for your hard work\n"
          ]
        }
      ],
      "source": [
        "## When all scores are nknown\n",
        "assignments=int(input(\"Enter your assignments score:   \"))\n",
        "test=float(input(\"Enter your test score:   \"))\n",
        "exam=int(input(\"Enter your exam score:   \"))\n",
        "overall = assignments * 0.4 + test * 0.2 + exam * 0.4\n",
        "print (overall)\n",
        "if overall >=35 and exam >=30:\n",
        "    print(\"You pass😁\")\n",
        "else:\n",
        "    print(\"You fail😭\")\n",
        "print(\"Thanks for your hard work\")"
      ]
    },
    {
      "cell_type": "markdown",
      "metadata": {},
      "source": [
        "## Exercise-1"
      ]
    },
    {
      "cell_type": "markdown",
      "metadata": {
        "id": "AvpSP-HhcXmp"
      },
      "source": [
        "**Judge whether the given year is a leap year**"
      ]
    },
    {
      "cell_type": "code",
      "execution_count": 17,
      "metadata": {},
      "outputs": [
        {
          "name": "stdout",
          "output_type": "stream",
          "text": [
            "2000 is a leap year\n"
          ]
        }
      ],
      "source": [
        "# aacording to the leap year calculation\n",
        "year = 2000\n",
        "if year%400==0 or (year%100!=0 and year%4==0):\n",
        "    print(\"2000 is a leap year\")\n",
        "else:\n",
        "    print(\"2000 is not a leap year\")\n"
      ]
    },
    {
      "cell_type": "code",
      "execution_count": 3,
      "metadata": {
        "colab": {
          "base_uri": "https://localhost:8080/"
        },
        "id": "GNZVtwJXbE5N",
        "outputId": "c9ff0a44-6f98-4510-b6e2-bfc66dc35f0c"
      },
      "outputs": [
        {
          "name": "stdout",
          "output_type": "stream",
          "text": [
            "2000 is a leap year\n"
          ]
        }
      ],
      "source": [
        "# call the calendar module\n",
        "import calendar\n",
        "year = 2000\n",
        "leap_year=calendar.isleap(year)\n",
        "if leap_year:\n",
        "    print(\"2000 is a leap year\")\n",
        "else:\n",
        "    print(\"2000 is not a leap year\")\n"
      ]
    },
    {
      "cell_type": "markdown",
      "metadata": {
        "id": "h3Ku3LTTcGP9"
      },
      "source": [
        "**Write a program that prints the largest of three given numbers**"
      ]
    },
    {
      "cell_type": "code",
      "execution_count": 2,
      "metadata": {
        "id": "n_-HTlahbE5N"
      },
      "outputs": [
        {
          "name": "stdout",
          "output_type": "stream",
          "text": [
            "The largest number is num3\n"
          ]
        }
      ],
      "source": [
        "# the first logic(if else)\n",
        "num1 = 1\n",
        "num2 = 3\n",
        "num3 = 4\n",
        "if num1>=num2 and num1>=num3:\n",
        "    print(\"The largest number is num1\")\n",
        "if num2>=num1 and num2>=num3:\n",
        "    print(\"The largest number is num2\")\n",
        "else:\n",
        "    print(\"The largest number is num3\")\n",
        "    \n"
      ]
    },
    {
      "cell_type": "code",
      "execution_count": 14,
      "metadata": {},
      "outputs": [
        {
          "name": "stdout",
          "output_type": "stream",
          "text": [
            "The largest number is 4\n"
          ]
        }
      ],
      "source": [
        "# the second logic(elif variables)\n",
        "num1 = 1\n",
        "num2 = 3\n",
        "num3 = 4\n",
        "if num1>=num2 and num1>=num3:\n",
        "    largest=num1\n",
        "elif num2>=num3:\n",
        "    largest=num2\n",
        "else:\n",
        "    largest=num3\n",
        "print(\"The largest number is\",largest)\n"
      ]
    },
    {
      "cell_type": "markdown",
      "metadata": {
        "id": "LH4jWIXabE5N",
        "tags": []
      },
      "source": [
        "## Exercise-2\n",
        "### You can use any Python style or techniques to complete the exercise!"
      ]
    },
    {
      "cell_type": "markdown",
      "metadata": {},
      "source": [
        "Write a Python program to calculate the ROI (Return of investment) with the steps below\n",
        "- Create a variable earning and assign it value to 3765432.\n",
        "- Create the variable invest and assign it value to 1000000.\n",
        "- Create the variable roi and assign the formula  \n",
        "## $roi = \\frac{Earnings - Invest}{Invest}$  \n",
        "\n",
        "You can find more Markdown syntax about writing mathematical expressions [here](https://docs.github.com/en/get-started/writing-on-github/working-with-advanced-formatting/writing-mathematical-expressions)\n",
        "- Display the result\n"
      ]
    },
    {
      "cell_type": "code",
      "execution_count": 1,
      "metadata": {
        "id": "dNhNUa4ibE5O"
      },
      "outputs": [
        {
          "name": "stdout",
          "output_type": "stream",
          "text": [
            "roi= 2.765432\n"
          ]
        }
      ],
      "source": [
        "# Please write you code here\n",
        "Earnings=3765432\n",
        "Invest=1000000\n",
        "roi=(Earnings-Invest)/Invest\n",
        "print(\"roi=\",roi) \n",
        "\n"
      ]
    },
    {
      "cell_type": "markdown",
      "metadata": {
        "id": "eyJEOnZybE5O"
      },
      "source": [
        "Write a Python program to get the user input as a string and output the result in uppercase, lowercase and title.  \n",
        "You may find the input() function [here](https://www.w3schools.com/python/ref_func_input.asp).  \n",
        "You may also find the String methods [here](https://www.w3schools.com/python/python_ref_string.asp)\n"
      ]
    },
    {
      "cell_type": "code",
      "execution_count": 4,
      "metadata": {
        "id": "Wz45NcVNbE5O"
      },
      "outputs": [
        {
          "name": "stdout",
          "output_type": "stream",
          "text": [
            "ZHANGLU\n",
            "zhanglu\n",
            "Zhanglu\n"
          ]
        }
      ],
      "source": [
        "# Please write your code here\n",
        "x = input()\n",
        "print(x.upper())\n",
        "print(x.lower())\n",
        "print(x.title())\n"
      ]
    }
  ],
  "metadata": {
    "colab": {
      "provenance": []
    },
    "gist_id": "dbb78dff8f6a4ff66120060bcc358f57",
    "kernel_info": {
      "name": "python3"
    },
    "kernelspec": {
      "display_name": "Python 3 (ipykernel)",
      "language": "python",
      "name": "python3"
    },
    "language_info": {
      "codemirror_mode": {
        "name": "ipython",
        "version": 3
      },
      "file_extension": ".py",
      "mimetype": "text/x-python",
      "name": "python",
      "nbconvert_exporter": "python",
      "pygments_lexer": "ipython3",
      "version": "3.11.5"
    },
    "nteract": {
      "version": "0.28.0"
    }
  },
  "nbformat": 4,
  "nbformat_minor": 0
}
