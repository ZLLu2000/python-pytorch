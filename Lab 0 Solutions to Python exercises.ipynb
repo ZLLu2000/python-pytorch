{
 "cells": [
  {
   "cell_type": "markdown",
   "metadata": {},
   "source": [
    "1. Please calculate out the result of 1+2!+3!+…+10!. (Do not use the factorial function provided by Python itself). Please implement it by yourself.\n",
    "\n"
   ]
  },
  {
   "cell_type": "code",
   "execution_count": 6,
   "metadata": {},
   "outputs": [
    {
     "name": "stdout",
     "output_type": "stream",
     "text": [
      "4037913\n"
     ]
    }
   ],
   "source": [
    "sum = 0\n",
    "for i in range(1, 11):\n",
    "    product = 1\n",
    "    for j in range(1, i+1):\n",
    "        product = product * j\n",
    "    sum = sum + product\n",
    "print(sum)"
   ]
  },
  {
   "cell_type": "code",
   "execution_count": null,
   "metadata": {},
   "outputs": [],
   "source": []
  },
  {
   "cell_type": "markdown",
   "metadata": {},
   "source": [
    "2. Given a certain month and a certain day of a certain year, and determine which day of the year this day is? For example, 20220217 is the 31+17 = 48th day of 2022."
   ]
  },
  {
   "cell_type": "code",
   "execution_count": 1,
   "metadata": {},
   "outputs": [
    {
     "name": "stdout",
     "output_type": "stream",
     "text": [
      "year 2020, month 2, day 17 is the 48-th day\n",
      "year 1900, month 2, day 17 is the 48-th day\n",
      "year 2022, month 2, day 17 is the 48-th day\n",
      "year 2020, month 9, day 17 is the 261-th day\n",
      "year 1900, month 9, day 17 is the 260-th day\n",
      "year 2022, month 9, day 17 is the 260-th day\n"
     ]
    }
   ],
   "source": [
    "def solution2(date):\n",
    "    year = int(date[:4])\n",
    "    month = int(date[4:6])\n",
    "    day = int(date[6:])\n",
    "    i = 0\n",
    "    days = day\n",
    "    months = [0,31,28,31,30,31,30,31,31,30,31]\n",
    "    while i < month:\n",
    "        days += months[i]\n",
    "        i += 1\n",
    "    if month > 2:\n",
    "        if judge_year(year) == 1:\n",
    "            days += 1\n",
    "    print(\"year %d, month %d, day %d is the %d-th day\"%(year,month,day,days))\n",
    "\n",
    "def judge_year(year):\n",
    "    if year % 4 == 0 and year % 100 != 0:\n",
    "        return 1\n",
    "    if year % 400 == 0:\n",
    "        return 1\n",
    "    return 0\n",
    "\n",
    "\n",
    "solution2('20200217')\n",
    "solution2('19000217')\n",
    "solution2('20220217')\n",
    "\n",
    "solution2('20200917')\n",
    "solution2('19000917')\n",
    "solution2('20220917')"
   ]
  },
  {
   "cell_type": "code",
   "execution_count": null,
   "metadata": {},
   "outputs": [],
   "source": []
  }
 ],
 "metadata": {
  "kernelspec": {
   "display_name": "Python 3.9.7 ('base')",
   "language": "python",
   "name": "python3"
  },
  "language_info": {
   "codemirror_mode": {
    "name": "ipython",
    "version": 3
   },
   "file_extension": ".py",
   "mimetype": "text/x-python",
   "name": "python",
   "nbconvert_exporter": "python",
   "pygments_lexer": "ipython3",
   "version": "3.9.7"
  },
  "vscode": {
   "interpreter": {
    "hash": "f90bbf7985f2e386e054d57f9f24ffeb163cbc33ce80b1a859df2b0f2c9d1e26"
   }
  }
 },
 "nbformat": 4,
 "nbformat_minor": 4
}
