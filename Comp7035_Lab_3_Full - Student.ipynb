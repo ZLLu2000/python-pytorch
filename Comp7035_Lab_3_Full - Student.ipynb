{
  "cells": [
    {
      "cell_type": "markdown",
      "metadata": {
        "id": "2-xCGHQzUSmU",
        "nteract": {
          "transient": {
            "deleting": false
          }
        }
      },
      "source": [
        "## Lab Demo COMP7035 Week 3"
      ]
    },
    {
      "cell_type": "markdown",
      "metadata": {
        "id": "w2zRyv2BUSmV"
      },
      "source": [
        "#### Exercise-1"
      ]
    },
    {
      "cell_type": "markdown",
      "metadata": {
        "id": "hF83xRaXUSmW"
      },
      "source": [
        "Q1: Write a Python function to sum all the numbers in a list."
      ]
    },
    {
      "cell_type": "code",
      "execution_count": null,
      "metadata": {
        "colab": {
          "base_uri": "https://localhost:8080/"
        },
        "id": "LM8vOby7USmW",
        "outputId": "b74aad72-8564-44ce-a183-8969942333c5"
      },
      "outputs": [
        {
          "name": "stdout",
          "output_type": "stream",
          "text": [
            "20\n"
          ]
        }
      ],
      "source": [
        "#def sum(numbers):\n"
      ]
    },
    {
      "cell_type": "markdown",
      "metadata": {
        "id": "Xj7HD_ZQUSmW"
      },
      "source": [
        "Q2: Write a Python function to multiply all the numbers in a list."
      ]
    },
    {
      "cell_type": "code",
      "execution_count": null,
      "metadata": {
        "colab": {
          "base_uri": "https://localhost:8080/"
        },
        "id": "lSszaUxCUSmX",
        "outputId": "da563393-6e8c-47d6-ee0e-c22f3be41b83"
      },
      "outputs": [
        {
          "name": "stdout",
          "output_type": "stream",
          "text": [
            "-336\n"
          ]
        }
      ],
      "source": [
        "#def multiply(numbers):\n"
      ]
    },
    {
      "cell_type": "markdown",
      "metadata": {
        "id": "vnDL2nvKeELL"
      },
      "source": [
        "Q3: Write a Python function that takes a list and returns a new list with distinct elements from the first list.\n",
        "\n",
        "Sample List : [1,2,3,3,3,3,4,5]\n",
        "\n",
        "Unique List : [1, 2, 3, 4, 5]"
      ]
    },
    {
      "cell_type": "code",
      "execution_count": null,
      "metadata": {
        "id": "FR6AAyHqUSmX"
      },
      "outputs": [],
      "source": [
        "#def unique_list(l):"
      ]
    },
    {
      "cell_type": "markdown",
      "metadata": {
        "id": "hV3RYiOJUSmX"
      },
      "source": [
        "Q4: Write a Python program to print the even numbers from a given list.\n",
        "\n",
        "Sample List : [1, 2, 3, 4, 5, 6, 7, 8, 9]\n",
        "\n",
        "Expected Result : [2, 4, 6, 8]"
      ]
    },
    {
      "cell_type": "code",
      "execution_count": null,
      "metadata": {
        "id": "SrcJYwaGUSmX"
      },
      "outputs": [],
      "source": [
        "#def is_even_num(l):"
      ]
    },
    {
      "cell_type": "markdown",
      "metadata": {
        "id": "upH2iC0UUSmX"
      },
      "source": [
        "Q5: Write a Python function to check whether a string is a pangram or not.\n",
        "If it is pangram, return true, otherwise return false\n",
        "\n",
        "**Note**: Pangrams are words or sentences containing every letter of the alphabet at least once.\n",
        "\n",
        "For example : \"The quick brown fox jumps over the lazy dog\""
      ]
    },
    {
      "cell_type": "code",
      "execution_count": null,
      "metadata": {
        "colab": {
          "base_uri": "https://localhost:8080/"
        },
        "id": "lQ6g6QaqUSmY",
        "outputId": "22258634-9943-4a90-c7e3-7ebc9b88ffd7"
      },
      "outputs": [
        {
          "name": "stdout",
          "output_type": "stream",
          "text": [
            "{'c', 'x', ' ', 'i', 'b', 'q', 'h', 'g', 'm', 'l', 'd', 'v', 'z', 'j', 'k', 'a', 'n', 't', 'p', 'r', 'o', 'f', 's', 'u', 'y', 'w', 'e'}\n",
            "True\n"
          ]
        }
      ],
      "source": [
        "#def ispangram(str1, alphabet=26):\n"
      ]
    },
    {
      "cell_type": "markdown",
      "metadata": {
        "id": "cN0d_XbJUSmY"
      },
      "source": [
        "Q6: Write a Python function to find the maximum of three numbers."
      ]
    },
    {
      "cell_type": "code",
      "execution_count": null,
      "metadata": {
        "colab": {
          "base_uri": "https://localhost:8080/"
        },
        "id": "pWaSg_SAUSmY",
        "outputId": "dcc22271-c377-4f22-86f7-fcd7c5ba2f5d"
      },
      "outputs": [
        {
          "name": "stdout",
          "output_type": "stream",
          "text": [
            "5\n"
          ]
        }
      ],
      "source": [
        "#def maximum(a, b, c):"
      ]
    },
    {
      "cell_type": "markdown",
      "metadata": {
        "id": "21pkPZnhUSmY"
      },
      "source": [
        " Q7. Calculate the sum of diagonal elements in a 3x3 matrix using a Python function"
      ]
    },
    {
      "cell_type": "code",
      "execution_count": null,
      "metadata": {
        "colab": {
          "base_uri": "https://localhost:8080/"
        },
        "id": "Qoye01rvUSmY",
        "outputId": "68149a5b-e7c4-4b5e-a36c-d42ce0822162"
      },
      "outputs": [
        {
          "name": "stdout",
          "output_type": "stream",
          "text": [
            "15\n"
          ]
        }
      ],
      "source": [
        "#def sum_of_diagonal(matrix):"
      ]
    },
    {
      "cell_type": "markdown",
      "metadata": {
        "id": "yQP8ertnUSmY"
      },
      "source": [
        "Q8: Judge whether a number is an armstrong number.\n",
        "\n",
        "What is armstrong numbers\n",
        "\n",
        "153&nbsp;=&nbsp;1<sup>3</sup>&nbsp;+&nbsp;5<sup>3</sup>&nbsp;+&nbsp;3<sup>3</sup>\n",
        "\n",
        "370&nbsp;=&nbsp;3<sup>3</sup>&nbsp;+&nbsp;7<sup>3</sup>&nbsp;+&nbsp;0<sup>3</sup>\n",
        "\n",
        "371&nbsp;=&nbsp;3<sup>3</sup>&nbsp;+&nbsp;7<sup>3</sup>&nbsp;+&nbsp;1<sup>3</sup>\n",
        "\n",
        "407&nbsp;=&nbsp;4<sup>3</sup>&nbsp;+&nbsp;0<sup>3</sup>&nbsp;+&nbsp;7<sup>3</sup>\n"
      ]
    },
    {
      "cell_type": "code",
      "execution_count": null,
      "metadata": {
        "colab": {
          "base_uri": "https://localhost:8080/"
        },
        "id": "0xOGZxvGUSmY",
        "outputId": "3a4afecf-7ae7-4150-911e-623657776ba6"
      },
      "outputs": [
        {
          "name": "stdout",
          "output_type": "stream",
          "text": [
            "This is armstrong number\n"
          ]
        }
      ],
      "source": [
        "#def is_armstrong(num):"
      ]
    },
    {
      "cell_type": "markdown",
      "metadata": {
        "id": "ByZOgyx9USmZ"
      },
      "source": [
        "Q9: Determine the subject with the highest score for a student.\n",
        "\n",
        "The three subjects and their corresponding scores are as follows:\n",
        "\n",
        "History: 90\n",
        "\n",
        "Math: 97\n",
        "\n",
        "English: 98"
      ]
    },
    {
      "cell_type": "code",
      "execution_count": null,
      "metadata": {
        "colab": {
          "base_uri": "https://localhost:8080/"
        },
        "id": "Rvgo_tjwUSmZ",
        "outputId": "1c1f8d56-dfcb-4148-e9e2-3ddc581e5849"
      },
      "outputs": [
        {
          "name": "stdout",
          "output_type": "stream",
          "text": [
            "English 98\n"
          ]
        }
      ],
      "source": [
        "#def get_max_socre(score_dic):"
      ]
    },
    {
      "cell_type": "markdown",
      "metadata": {
        "id": "TgZ5jjk7USmZ"
      },
      "source": [
        "Q10: Write a function `f(n)` that takes an input value `n` and calculates its factorial. Then, call this function to calculate the sum of factorials from 1! to 10! and output the result to the screen."
      ]
    },
    {
      "cell_type": "code",
      "execution_count": null,
      "metadata": {
        "colab": {
          "base_uri": "https://localhost:8080/"
        },
        "id": "tMX0rXHZUSmZ",
        "outputId": "6f66775b-25e0-4e8e-cd12-f0022d248cda"
      },
      "outputs": [
        {
          "name": "stdout",
          "output_type": "stream",
          "text": [
            "The sum of factorials from 1! to 10! = 4037913\n"
          ]
        }
      ],
      "source": [
        "#def factorial(n):"
      ]
    },
    {
      "cell_type": "markdown",
      "metadata": {},
      "source": [
        "Q11. Please design a function returns the absolute value of the entered number."
      ]
    },
    {
      "cell_type": "code",
      "execution_count": null,
      "metadata": {},
      "outputs": [],
      "source": [
        "#def absolute_value(num):\n"
      ]
    },
    {
      "cell_type": "markdown",
      "metadata": {
        "id": "OhAoYlRLUSmZ"
      },
      "source": [
        "#### Exercies2: Python Lambda"
      ]
    },
    {
      "cell_type": "markdown",
      "metadata": {
        "id": "qtvLpSDIe6H6"
      },
      "source": [
        "Q1: Add 10 to argument a, and return the result:"
      ]
    },
    {
      "cell_type": "code",
      "execution_count": null,
      "metadata": {
        "colab": {
          "base_uri": "https://localhost:8080/"
        },
        "id": "FX7m1xAxUSmZ",
        "outputId": "004909b3-d7a0-476d-a51f-7c6851f4120b"
      },
      "outputs": [
        {
          "name": "stdout",
          "output_type": "stream",
          "text": [
            "15\n"
          ]
        }
      ],
      "source": []
    },
    {
      "cell_type": "markdown",
      "metadata": {
        "id": "g4Rlg7QqUSmZ"
      },
      "source": [
        "Q2: Create a lambda function that takes a string as input and returns its length:"
      ]
    },
    {
      "cell_type": "code",
      "execution_count": null,
      "metadata": {
        "colab": {
          "base_uri": "https://localhost:8080/"
        },
        "id": "DBmFESs_USmZ",
        "outputId": "a72b342c-6cae-41ef-fcf1-46029ccedbc9"
      },
      "outputs": [
        {
          "name": "stdout",
          "output_type": "stream",
          "text": [
            "13\n"
          ]
        }
      ],
      "source": []
    },
    {
      "cell_type": "markdown",
      "metadata": {
        "id": "NFWJpTqPUSma"
      },
      "source": [
        "Q3: Create a lambda function that takes two numbers as input and returns their sum:"
      ]
    },
    {
      "cell_type": "code",
      "execution_count": null,
      "metadata": {
        "colab": {
          "base_uri": "https://localhost:8080/"
        },
        "id": "nsVLLcTKUSma",
        "outputId": "e7d1b01f-2ccb-4b63-eaab-4d993afb34c2"
      },
      "outputs": [
        {
          "name": "stdout",
          "output_type": "stream",
          "text": [
            "8\n"
          ]
        }
      ],
      "source": []
    },
    {
      "cell_type": "markdown",
      "metadata": {
        "id": "JescBsHFUSma"
      },
      "source": [
        "Q4: Create a lambda function that takes a number as input and returns True if it is divisible by 3, and False otherwise:"
      ]
    },
    {
      "cell_type": "code",
      "execution_count": null,
      "metadata": {
        "colab": {
          "base_uri": "https://localhost:8080/"
        },
        "id": "MP5hP8y8USma",
        "outputId": "fa74ec81-d62c-4954-b272-72996d5ef56f"
      },
      "outputs": [
        {
          "name": "stdout",
          "output_type": "stream",
          "text": [
            "True\n",
            "False\n"
          ]
        }
      ],
      "source": []
    },
    {
      "cell_type": "markdown",
      "metadata": {
        "id": "_p4q4YocUSma"
      },
      "source": [
        "Q5: Write a Python program to create a lambda function that adds 15 to a given number passed in as an argument, also create a lambda function that multiplies argument x with argument y and prints the result.\n"
      ]
    },
    {
      "cell_type": "code",
      "execution_count": null,
      "metadata": {
        "colab": {
          "base_uri": "https://localhost:8080/"
        },
        "id": "3easfb-gUSma",
        "outputId": "6973ef5e-d59f-4e2f-9b78-1a5d0d1efad8"
      },
      "outputs": [
        {
          "name": "stdout",
          "output_type": "stream",
          "text": [
            "25\n",
            "48\n"
          ]
        }
      ],
      "source": []
    },
    {
      "cell_type": "markdown",
      "metadata": {
        "id": "9llCn63O_AtR"
      },
      "source": [
        "Q6: Please design a function to implement a rolling dice function.\n",
        "We need to roll the dice for 10 times until the summation of each dice number reaches 10."
      ]
    },
    {
      "cell_type": "code",
      "execution_count": 2,
      "metadata": {
        "colab": {
          "base_uri": "https://localhost:8080/"
        },
        "id": "tVj3pqgB_AEu",
        "outputId": "aa0245f3-240a-45ff-9541-bb139deec590"
      },
      "outputs": [
        {
          "name": "stdout",
          "output_type": "stream",
          "text": [
            "DiceNumber: 1 PieceNumber: 1 \n",
            "\n",
            "DiceNumber: 1 PieceNumber: 2 \n",
            "\n",
            "DiceNumber: 6 PieceNumber: 8 \n",
            "\n",
            "DiceNumber: 5 PieceNumber: 13 \n",
            "\n"
          ]
        }
      ],
      "source": [
        "import random\n",
        "#def RollingDice(piece):"
      ]
    },
    {
      "cell_type": "markdown",
      "metadata": {
        "id": "KPRtdEZ4USma"
      },
      "source": [
        "#### Exercise-3"
      ]
    },
    {
      "cell_type": "markdown",
      "metadata": {
        "id": "-dRvOm96USma",
        "nteract": {
          "transient": {
            "deleting": false
          }
        }
      },
      "source": [
        "Let's take a look at the problem we discussed last week.\n",
        "\n",
        "We calculated the continuous assessment according the current assessment scheme.\n",
        "\n",
        "`ca = assignments * 0.4 + test * 0.2`\n",
        "\n",
        "We may have many of these statements in our program, to calculate scores for students.\n",
        "\n",
        "But course design and assessment scheme may change from time to time. It's better to \"centralize\" this calculation to **avoid inconsistancy**.\n",
        "\n",
        "This is how we can achieve it:"
      ]
    },
    {
      "cell_type": "code",
      "execution_count": null,
      "metadata": {
        "id": "_GtiOCc6USma",
        "nteract": {
          "transient": {
            "deleting": false
          }
        },
        "outputId": "738b4a8c-8dae-44b8-a545-26d8538e60c4",
        "tags": []
      },
      "outputs": [
        {
          "name": "stdout",
          "output_type": "stream",
          "text": [
            "40.0\n"
          ]
        }
      ],
      "source": []
    },
    {
      "cell_type": "markdown",
      "metadata": {
        "id": "lr5muAGvUSmb",
        "nteract": {
          "transient": {
            "deleting": false
          }
        }
      },
      "source": [
        "The `def` keyword helps us to define a **function**. Here, the function is named `getCA`, and **accepts 2 parameters**, namely `assignments` and `test`.\n",
        "\n",
        "These parameters will work as **variables** in the **function body**. Most functions would end with a `return` statement, which returns a value to the **caller**.\n",
        "\n",
        "Please note that a function will never execute **unless it's being called**.\n",
        "\n",
        "When we call a function, we have to pass in **arguments** that match with the function parameters:\n",
        "\n",
        "`student1 = getCA(80, 40)`\n",
        "\n",
        "The returned value is then received by variable `student1`.\n",
        "\n",
        "We can then calculate the continuous assessment score for many students:\n",
        "\n",
        "\n"
      ]
    },
    {
      "cell_type": "code",
      "execution_count": null,
      "metadata": {
        "id": "TwXz1zT0USmb",
        "nteract": {
          "transient": {
            "deleting": false
          }
        },
        "outputId": "196aa60c-b407-494c-f60d-2434f6eac539",
        "tags": []
      },
      "outputs": [
        {
          "name": "stdout",
          "output_type": "stream",
          "text": [
            "40.0\n",
            "31.0\n",
            "47.0\n"
          ]
        }
      ],
      "source": [
        "def getCA(assignments, test):\n",
        "    score = assignments * 0.4 + test * 0.2\n",
        "    return score\n",
        "\n",
        "student1 = getCA(80, 40)\n",
        "print(student1)\n",
        "student2 = getCA(65, 25)\n",
        "print(student2)\n",
        "student3 = getCA(80, 75)\n",
        "print(student3)"
      ]
    },
    {
      "cell_type": "markdown",
      "metadata": {
        "id": "shY9ikdAUSmb",
        "nteract": {
          "transient": {
            "deleting": false
          }
        }
      },
      "source": [
        "### What if we have 100 students?\n",
        "\n",
        "Declaring 100 variables (e.g., `student001` - `student100`) doesn't sound right.\n",
        "\n",
        "We need a way to represent multiple values with a single variable, and there're many ways to achieve this in python."
      ]
    },
    {
      "cell_type": "code",
      "execution_count": null,
      "metadata": {
        "id": "FDHtXBTKUSmb",
        "nteract": {
          "transient": {
            "deleting": false
          }
        },
        "outputId": "c1d4a154-db9f-417d-b573-8814693a4862",
        "tags": []
      },
      "outputs": [
        {
          "name": "stdout",
          "output_type": "stream",
          "text": [
            "[34.0, 35.0, 57.25]\n",
            "34.0\n",
            "35.0\n",
            "57.25\n"
          ]
        }
      ],
      "source": []
    },
    {
      "cell_type": "markdown",
      "metadata": {
        "id": "XnWPKwmgUSmc",
        "nteract": {
          "transient": {
            "deleting": false
          }
        }
      },
      "source": [
        "Here, we declare a **list**, holding three values. We can access each individual value with `[index]`. Please note that the index value starts from 0. If we access the fourth value (`[3]`) of this list, a `list index out of range` error will be thrown, as that value doesn't exist.\n",
        "\n",
        "To add one more value in the list, we can:\n",
        "\n"
      ]
    },
    {
      "cell_type": "code",
      "execution_count": null,
      "metadata": {
        "id": "JzyfYGHWUSmc",
        "nteract": {
          "transient": {
            "deleting": false
          }
        },
        "outputId": "d9e5b5de-ae4e-4dad-f26a-64179bb8e2f3",
        "tags": []
      },
      "outputs": [
        {
          "name": "stdout",
          "output_type": "stream",
          "text": [
            "[34.0, 35.0, 57.25, 45.5]\n",
            "45.5\n"
          ]
        }
      ],
      "source": []
    },
    {
      "cell_type": "markdown",
      "metadata": {
        "id": "yop46AEEUSmc",
        "nteract": {
          "transient": {
            "deleting": false
          }
        }
      },
      "source": [
        "Now, instead of manually filling the CA scores, we can make of use the function we developed earlier:"
      ]
    },
    {
      "cell_type": "code",
      "execution_count": null,
      "metadata": {
        "id": "nOZZM0ejUSmc",
        "jupyter": {
          "outputs_hidden": false,
          "source_hidden": false
        },
        "nteract": {
          "transient": {
            "deleting": false
          }
        },
        "outputId": "3dc68b69-a9cd-4300-9a48-edce57270937",
        "tags": []
      },
      "outputs": [
        {
          "name": "stdout",
          "output_type": "stream",
          "text": [
            "[]\n",
            "[40.0]\n",
            "[40.0, 31.0]\n",
            "[40.0, 31.0, 47.0]\n",
            "[40.0, 31.0, 47.0, 27.2]\n"
          ]
        }
      ],
      "source": [
        "def getCA(assignments, test):\n",
        "    score = assignments * 0.4 + test * 0.2\n",
        "    return score\n",
        "\n",
        "scoreList = []\n",
        "print(scoreList)\n",
        "scoreList.append(getCA(80, 40))\n",
        "print(scoreList)\n",
        "scoreList.append(getCA(65, 25))\n",
        "print(scoreList)\n",
        "scoreList.append(getCA(80, 75))\n",
        "print(scoreList)\n",
        "scoreList.append(getCA(45.5, 45))\n",
        "print(scoreList)"
      ]
    },
    {
      "cell_type": "markdown",
      "metadata": {
        "id": "o38ErpG3USmc",
        "nteract": {
          "transient": {
            "deleting": false
          }
        }
      },
      "source": [
        "Here, we start with an empty list (`[]`), and make use of the `getCA()` function to calculate the score for each student. The returned value is appended to the list.\n",
        "\n",
        "To print the score one by one, we can make use of a `for` loop. If you only need the values:"
      ]
    },
    {
      "cell_type": "code",
      "execution_count": null,
      "metadata": {
        "id": "ZYWIlLMnUSmc",
        "jupyter": {
          "outputs_hidden": false,
          "source_hidden": false
        },
        "nteract": {
          "transient": {
            "deleting": false
          }
        },
        "outputId": "346475ed-a963-46ab-c956-49d1391a67a7",
        "tags": []
      },
      "outputs": [
        {
          "name": "stdout",
          "output_type": "stream",
          "text": [
            "The continuous assessment score is 40.0\n",
            "The continuous assessment score is 31.0\n",
            "The continuous assessment score is 47.0\n",
            "The continuous assessment score is 27.2\n"
          ]
        }
      ],
      "source": []
    },
    {
      "cell_type": "markdown",
      "metadata": {
        "id": "7ucdQfJ7USmc",
        "nteract": {
          "transient": {
            "deleting": false
          }
        }
      },
      "source": [
        "If you need the index as well:"
      ]
    },
    {
      "cell_type": "code",
      "execution_count": null,
      "metadata": {
        "id": "mPDjbRVhUSmd",
        "jupyter": {
          "outputs_hidden": false,
          "source_hidden": false
        },
        "nteract": {
          "transient": {
            "deleting": false
          }
        },
        "outputId": "19621e35-e3c7-4d67-b6d0-610ce13e8fd1",
        "tags": []
      },
      "outputs": [
        {
          "name": "stdout",
          "output_type": "stream",
          "text": [
            "The continuous assessment score of student 1 is 40.0\n",
            "The continuous assessment score of student 2 is 31.0\n",
            "The continuous assessment score of student 3 is 47.0\n",
            "The continuous assessment score of student 4 is 27.2\n"
          ]
        }
      ],
      "source": []
    },
    {
      "cell_type": "markdown",
      "metadata": {
        "id": "C-XkK74rUSmd",
        "nteract": {
          "transient": {
            "deleting": false
          }
        }
      },
      "source": [
        "The `len()` function tells us the **length** of a list, that is the number of elements in the list.\n",
        "\n",
        "The `range(n)` function generates the first `n` non-negative integers, e.g.,"
      ]
    },
    {
      "cell_type": "code",
      "execution_count": null,
      "metadata": {
        "id": "HhAHxhFFUSmd",
        "jupyter": {
          "outputs_hidden": false,
          "source_hidden": false
        },
        "nteract": {
          "transient": {
            "deleting": false
          }
        },
        "outputId": "5aa9fa96-9790-4d4f-f5c8-2d8ecc586d3b",
        "tags": []
      },
      "outputs": [
        {
          "data": {
            "text/plain": [
              "[0, 1, 2, 3, 4, 5]"
            ]
          },
          "execution_count": 10,
          "metadata": {},
          "output_type": "execute_result"
        }
      ],
      "source": []
    },
    {
      "cell_type": "markdown",
      "metadata": {
        "id": "6kyhn8zSUSmd",
        "nteract": {
          "transient": {
            "deleting": false
          }
        }
      },
      "source": [
        "Let's develop another function to check for failure cases:"
      ]
    },
    {
      "cell_type": "code",
      "execution_count": null,
      "metadata": {
        "id": "f94l3xWYUSmd",
        "jupyter": {
          "outputs_hidden": false,
          "source_hidden": false
        },
        "nteract": {
          "transient": {
            "deleting": false
          }
        },
        "outputId": "96dcd2c7-5d62-4289-da45-c2831a9d77ea",
        "tags": []
      },
      "outputs": [
        {
          "name": "stdout",
          "output_type": "stream",
          "text": [
            "Student 0 passes this course.\n",
            "Student 1 fails this course.\n",
            "Student 2 passes this course.\n",
            "Student 3 passes this course.\n"
          ]
        }
      ],
      "source": [
        "def getCA(assignments, test):\n",
        "    return assignments * 0.4 + test * 0.2\n",
        "\n",
        "def didIFail(assignments, test, exam):\n",
        "\n",
        "  overall = getCA(assignments, test) + exam * 0.4;\n",
        "\n",
        "  if exam < 30 or overall < 35:\n",
        "    return True\n",
        "  else:\n",
        "    return False\n",
        "\n",
        "failList = []\n",
        "failList.append(didIFail(80, 40, 40))\n",
        "failList.append(didIFail(15, 25, 30))\n",
        "failList.append(didIFail(80, 75, 70))\n",
        "failList.append(didIFail(45.5, 45.5, 45.5))\n",
        "\n",
        "for index in range(len(failList)):\n",
        "    if failList[index]:\n",
        "        print(\"Student\", index, \"fails this course.\")\n",
        "    else:\n",
        "        print(\"Student\", index, \"passes this course.\")"
      ]
    },
    {
      "cell_type": "markdown",
      "metadata": {
        "id": "QE82OxzjUSmd",
        "nteract": {
          "transient": {
            "deleting": false
          }
        }
      },
      "source": [
        "Please notice that **a function can call another function**.\n",
        "\n",
        "Sometimes, we can leverage the `return` statement to provide an **early exit** of a function:"
      ]
    },
    {
      "cell_type": "markdown",
      "metadata": {
        "id": "QBwx0bw0USme",
        "nteract": {
          "transient": {
            "deleting": false
          }
        }
      },
      "source": [
        "## Poker Game\n",
        "\n",
        "In a Poker game, there are **52 cards** in a deck, divided into **4 suits** of **13 ranks** each.\n",
        "\n",
        "![Poker Cards](https://ik.imagekit.io/iqo55vvgwqy/tr:w-800/free-vector-card-deck_zjPOhluNjKy.png?updatedAt=1630646825260)"
      ]
    },
    {
      "cell_type": "markdown",
      "metadata": {
        "id": "WGvVQaGrUSme",
        "nteract": {
          "transient": {
            "deleting": false
          }
        }
      },
      "source": [
        "Typically, we can use integers 0 - 51 to represent these cards. Let say, the first suit uses 0 - 12, while the second suit uses 13 - 25, etc.\n",
        "\n",
        "Then, let's develop a couple of functions to get the **suit** and **rank** of a **card**:\n",
        "\n"
      ]
    },
    {
      "cell_type": "code",
      "execution_count": null,
      "metadata": {
        "id": "1RFjiOVtUSme",
        "jupyter": {
          "outputs_hidden": false
        },
        "nteract": {
          "transient": {
            "deleting": false
          }
        },
        "tags": []
      },
      "outputs": [],
      "source": [
        "\n"
      ]
    },
    {
      "cell_type": "code",
      "execution_count": null,
      "metadata": {
        "id": "X-u9DsmiUSme",
        "jupyter": {
          "outputs_hidden": false
        },
        "nteract": {
          "transient": {
            "deleting": false
          }
        },
        "tags": []
      },
      "outputs": [],
      "source": []
    },
    {
      "cell_type": "code",
      "execution_count": null,
      "metadata": {
        "id": "4hHLn2--USme",
        "jupyter": {
          "outputs_hidden": false
        },
        "nteract": {
          "transient": {
            "deleting": false
          }
        },
        "outputId": "99a4b01d-d476-47e4-ba18-cbcb36a98caf",
        "tags": []
      },
      "outputs": [
        {
          "name": "stdout",
          "output_type": "stream",
          "text": [
            "Diamond A\n"
          ]
        }
      ],
      "source": [
        "print(getSuit(12), getRank(12))"
      ]
    },
    {
      "cell_type": "markdown",
      "metadata": {
        "id": "ibNKHVrAUSme",
        "nteract": {
          "transient": {
            "deleting": false
          }
        }
      },
      "source": [
        "It would be a lot easier to identify the poker hands with these functions.\n",
        "\n",
        "![Poker Hands](https://allmathconsidered.files.wordpress.com/2017/05/poker-hand-rankings.jpg)"
      ]
    },
    {
      "cell_type": "code",
      "execution_count": null,
      "metadata": {
        "id": "4puuUfBiUSme",
        "nteract": {
          "transient": {
            "deleting": false
          }
        },
        "outputId": "d1413350-35a6-4347-f1f2-2fed51ae3fa8",
        "tags": []
      },
      "outputs": [
        {
          "name": "stdout",
          "output_type": "stream",
          "text": [
            "True False\n"
          ]
        }
      ],
      "source": [
        "def isFlush(hand):\n",
        "\n",
        "    suit0 = getSuit(hand[0])\n",
        "\n",
        "    for card in hand:\n",
        "        if getSuit(card) != suit0:\n",
        "            return False\n",
        "\n",
        "    return True\n",
        "\n",
        "print(isFlush([0, 1, 2, 3, 12]), isFlush([0, 1, 2, 3, 13]))"
      ]
    }
  ],
  "metadata": {
    "colab": {
      "provenance": []
    },
    "gist_id": "5cf6e153096947da7ad5a7abe3a530bd",
    "kernel_info": {
      "name": "python3"
    },
    "kernelspec": {
      "display_name": "Python 3 (ipykernel)",
      "language": "python",
      "name": "python3"
    },
    "language_info": {
      "codemirror_mode": {
        "name": "ipython",
        "version": 3
      },
      "file_extension": ".py",
      "mimetype": "text/x-python",
      "name": "python",
      "nbconvert_exporter": "python",
      "pygments_lexer": "ipython3",
      "version": "3.9.7"
    },
    "nteract": {
      "version": "0.28.0"
    }
  },
  "nbformat": 4,
  "nbformat_minor": 0
}
