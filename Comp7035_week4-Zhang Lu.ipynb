{
 "cells": [
  {
   "cell_type": "markdown",
   "id": "0b3dd32b-9205-40e4-a86c-1dfe9c51ff7c",
   "metadata": {
    "id": "0b3dd32b-9205-40e4-a86c-1dfe9c51ff7c"
   },
   "source": [
    "## Lab Demo COMP7035 Topic 4\n",
    "### Objective\n",
    "- File I/O  \n",
    "- Directory"
   ]
  },
  {
   "cell_type": "markdown",
   "id": "zcE_pBXITA6h",
   "metadata": {
    "id": "zcE_pBXITA6h"
   },
   "source": [
    "**Exercise-2**\n",
    "\n",
    "Please download districts.txt from HKBU Moodle. And then put at a place that can be used by your console. Then, you can use this file to complete the following questions."
   ]
  },
  {
   "cell_type": "markdown",
   "id": "b60d5c67-53f4-4254-9e31-3dde911b024a",
   "metadata": {
    "id": "b60d5c67-53f4-4254-9e31-3dde911b024a"
   },
   "source": [
    "![distrcits](https://upload.wikimedia.org/wikipedia/commons/thumb/f/fe/Map_of_Hong_Kong_18_Districts_en.svg/1024px-Map_of_Hong_Kong_18_Districts_en.svg.png)"
   ]
  },
  {
   "cell_type": "markdown",
   "id": "9d5db38f-7ebd-4df4-851e-3e1b304edb51",
   "metadata": {
    "id": "9d5db38f-7ebd-4df4-851e-3e1b304edb51"
   },
   "source": [
    "The districts of Hong Kong are the 18 political areas of Hong Kong, a special administrative region of the People's Republic of China, that are geographically and administratively divided. Each district has a district council, formerly district boards, for which the boards were established in 1982. [More details](https://en.wikipedia.org/wiki/Districts_of_Hong_Kong)  \n",
    "The file `districts.txt` on Moodle contains 18 district names. We can read the file and display the distrcit names in alphabetical order"
   ]
  },
  {
   "cell_type": "code",
   "execution_count": 6,
   "id": "3f9a9d05-aee2-42d7-be22-d06865d50cad",
   "metadata": {
    "id": "3f9a9d05-aee2-42d7-be22-d06865d50cad",
    "outputId": "16eaf463-cf01-487d-958a-23e2c6d99e01"
   },
   "outputs": [
    {
     "name": "stdout",
     "output_type": "stream",
     "text": [
      "Central and Western\n",
      "\n",
      "Eastern\n",
      "\n",
      "Islands\n",
      "\n",
      "Kowloon City\n",
      "\n",
      "Kwai Tsing\n",
      "\n",
      "Kwun Tong\n",
      "\n",
      "North\n",
      "\n",
      "Sai Kung\n",
      "\n",
      "Sha Tin\n",
      "\n",
      "Sham Shui Po\n",
      "\n",
      "Southern\n",
      "\n",
      "Tai Po\n",
      "\n",
      "Tsuen Wan\n",
      "\n",
      "Tuen Mun\n",
      "\n",
      "Wan Chai\n",
      "\n",
      "Wong Tai Sin\n",
      "\n",
      "Yau Tsim Mong\n",
      "\n",
      "Yuen Long\n",
      "\n"
     ]
    }
   ],
   "source": [
    "def district_in_order(filename):\n",
    "    fo=open(filename,\"r+\")\n",
    "    lines=fo.readlines()\n",
    "    lines.sort()\n",
    "    for i in lines:\n",
    "        print(i)\n",
    "    fo.close()\n",
    "            \n",
    "district_in_order(\"districts.txt\")"
   ]
  },
  {
   "cell_type": "markdown",
   "id": "4f1f30df",
   "metadata": {},
   "source": [
    "Please read all information in the data.zip. And We can read the file and display email in alphabetical order"
   ]
  },
  {
   "cell_type": "code",
   "execution_count": 5,
   "id": "91b334de-8290-4860-8168-f65eeddeb40c",
   "metadata": {
    "id": "91b334de-8290-4860-8168-f65eeddeb40c",
    "outputId": "d8b7ebd6-fa71-47a7-8de6-5a8d151528e6"
   },
   "outputs": [
    {
     "name": "stdout",
     "output_type": "stream",
     "text": [
      "['choi@comp.hkbu.edu.hk', 'chxw@comp.hkbu.edu.hk', 'jiming@comp.hkbu.edu.hk', 'jng@comp.hkbu.edu.hk', 'pcyuen@comp.hkbu.edu.hk', 'william@comp.hkbu.edu.hk', 'xujl@comp.hkbu.edu.hk', 'yikeguo@hkbu.edu.hk', 'ymc@comp.hkbu.edu.hk', 'ywleung@comp.hkbu.edu.hk']\n"
     ]
    }
   ],
   "source": [
    "import os\n",
    "\n",
    "folderpath=\"D:\\HKBU\\COMP7035\\week 4\\data\"\n",
    "filelist=os.listdir(folderpath)\n",
    "e=[]\n",
    "for filename in os.listdir(folderpath):\n",
    "    if filename.endswith('.txt'):\n",
    "        filepath=os.path.join(folderpath,filename)\n",
    "        with open(filepath,'r') as file:\n",
    "            lines=file.readlines()\n",
    "            for i in range(len(lines)):\n",
    "                if 'email' in lines[i].lower():\n",
    "                    email=lines[i+1].strip()\n",
    "                    e.append(email)\n",
    "e.sort()\n",
    "print(e)       "
   ]
  },
  {
   "cell_type": "markdown",
   "id": "641aff1c-d106-49e7-b2db-13333bbf6ccf",
   "metadata": {
    "id": "641aff1c-d106-49e7-b2db-13333bbf6ccf"
   },
   "source": [
    "## Get current directory"
   ]
  },
  {
   "cell_type": "code",
   "execution_count": 4,
   "id": "cb7f575f-1f16-402e-9fc5-ab5aed61ab2e",
   "metadata": {
    "id": "cb7f575f-1f16-402e-9fc5-ab5aed61ab2e",
    "outputId": "d374ef1d-0a4d-4479-980a-91f47896cafd",
    "tags": []
   },
   "outputs": [
    {
     "data": {
      "text/plain": [
       "'C:\\\\Users\\\\27236\\\\Desktop'"
      ]
     },
     "execution_count": 4,
     "metadata": {},
     "output_type": "execute_result"
    }
   ],
   "source": [
    "import os\n",
    "\n",
    "os.getcwd()"
   ]
  },
  {
   "cell_type": "markdown",
   "id": "5d36370b-f56c-4a84-ab5c-6cd1ae1fa9c1",
   "metadata": {
    "id": "5d36370b-f56c-4a84-ab5c-6cd1ae1fa9c1"
   },
   "source": [
    "The extra `\\` is use for the escape sequence  \n",
    "You can get the same result if you use the full path"
   ]
  },
  {
   "cell_type": "code",
   "execution_count": 3,
   "id": "1c7205cd-22ab-4907-8eed-9edd20d537d4",
   "metadata": {
    "id": "1c7205cd-22ab-4907-8eed-9edd20d537d4",
    "outputId": "083ffd3b-66fd-4453-94b3-75f90806f8a7"
   },
   "outputs": [
    {
     "name": "stdout",
     "output_type": "stream",
     "text": [
      "Central and Western\n",
      "\n",
      "Eastern\n",
      "\n",
      "Islands\n",
      "\n",
      "Kowloon City\n",
      "\n",
      "Kwai Tsing\n",
      "\n",
      "Kwun Tong\n",
      "\n",
      "North\n",
      "\n",
      "Sai Kung\n",
      "\n",
      "Sha Tin\n",
      "\n",
      "Sham Shui Po\n",
      "\n",
      "Southern\n",
      "\n",
      "Tai Po\n",
      "\n",
      "Tsuen Wan\n",
      "\n",
      "Tuen Mun\n",
      "\n",
      "Wan Chai\n",
      "\n",
      "Wong Tai Sin\n",
      "\n",
      "Yau Tsim Mong\n",
      "\n",
      "Yuen Long\n",
      "\n"
     ]
    }
   ],
   "source": [
    "file = open(os.getcwd() + '\\districts.txt','r')\n",
    "districts = [line for line in file]\n",
    "districts.sort()\n",
    "for i in range(0, 18):\n",
    "    print(districts[i])\n",
    "file.close()"
   ]
  }
 ],
 "metadata": {
  "colab": {
   "provenance": []
  },
  "kernelspec": {
   "display_name": "Python 3 (ipykernel)",
   "language": "python",
   "name": "python3"
  },
  "language_info": {
   "codemirror_mode": {
    "name": "ipython",
    "version": 3
   },
   "file_extension": ".py",
   "mimetype": "text/x-python",
   "name": "python",
   "nbconvert_exporter": "python",
   "pygments_lexer": "ipython3",
   "version": "3.11.4"
  }
 },
 "nbformat": 4,
 "nbformat_minor": 5
}
